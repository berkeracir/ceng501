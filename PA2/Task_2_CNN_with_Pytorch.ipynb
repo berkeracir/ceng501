{
  "nbformat": 4,
  "nbformat_minor": 0,
  "metadata": {
    "colab": {
      "name": "Task 2 - CNN with Pytorch.ipynb",
      "provenance": [],
      "collapsed_sections": [
        "ceRsRxExPbR3"
      ],
      "toc_visible": true
    },
    "kernelspec": {
      "name": "python3",
      "display_name": "Python 3"
    },
    "language_info": {
      "name": "python"
    },
    "accelerator": "GPU",
    "widgets": {
      "application/vnd.jupyter.widget-state+json": {
        "93753fbec9e44ddd80801abc3eda6f07": {
          "model_module": "@jupyter-widgets/controls",
          "model_name": "HBoxModel",
          "state": {
            "_view_name": "HBoxView",
            "_dom_classes": [],
            "_model_name": "HBoxModel",
            "_view_module": "@jupyter-widgets/controls",
            "_model_module_version": "1.5.0",
            "_view_count": null,
            "_view_module_version": "1.5.0",
            "box_style": "",
            "layout": "IPY_MODEL_763f47cc3ca24736bb697642791a44cb",
            "_model_module": "@jupyter-widgets/controls",
            "children": [
              "IPY_MODEL_1f780ebc8c3b430fb192137f7d60b0e6",
              "IPY_MODEL_0e97ad87039c486389ab4c52f646c21e"
            ]
          }
        },
        "763f47cc3ca24736bb697642791a44cb": {
          "model_module": "@jupyter-widgets/base",
          "model_name": "LayoutModel",
          "state": {
            "_view_name": "LayoutView",
            "grid_template_rows": null,
            "right": null,
            "justify_content": null,
            "_view_module": "@jupyter-widgets/base",
            "overflow": null,
            "_model_module_version": "1.2.0",
            "_view_count": null,
            "flex_flow": null,
            "width": null,
            "min_width": null,
            "border": null,
            "align_items": null,
            "bottom": null,
            "_model_module": "@jupyter-widgets/base",
            "top": null,
            "grid_column": null,
            "overflow_y": null,
            "overflow_x": null,
            "grid_auto_flow": null,
            "grid_area": null,
            "grid_template_columns": null,
            "flex": null,
            "_model_name": "LayoutModel",
            "justify_items": null,
            "grid_row": null,
            "max_height": null,
            "align_content": null,
            "visibility": null,
            "align_self": null,
            "height": null,
            "min_height": null,
            "padding": null,
            "grid_auto_rows": null,
            "grid_gap": null,
            "max_width": null,
            "order": null,
            "_view_module_version": "1.2.0",
            "grid_template_areas": null,
            "object_position": null,
            "object_fit": null,
            "grid_auto_columns": null,
            "margin": null,
            "display": null,
            "left": null
          }
        },
        "1f780ebc8c3b430fb192137f7d60b0e6": {
          "model_module": "@jupyter-widgets/controls",
          "model_name": "FloatProgressModel",
          "state": {
            "_view_name": "ProgressView",
            "style": "IPY_MODEL_db5ab8fc26694b98944c1060c2178b06",
            "_dom_classes": [],
            "description": "",
            "_model_name": "FloatProgressModel",
            "bar_style": "success",
            "max": 170498071,
            "_view_module": "@jupyter-widgets/controls",
            "_model_module_version": "1.5.0",
            "value": 170498071,
            "_view_count": null,
            "_view_module_version": "1.5.0",
            "orientation": "horizontal",
            "min": 0,
            "description_tooltip": null,
            "_model_module": "@jupyter-widgets/controls",
            "layout": "IPY_MODEL_6e35c84aa3da457e97262035d025ae0b"
          }
        },
        "0e97ad87039c486389ab4c52f646c21e": {
          "model_module": "@jupyter-widgets/controls",
          "model_name": "HTMLModel",
          "state": {
            "_view_name": "HTMLView",
            "style": "IPY_MODEL_3158acde93e246ba9197750e04b3bf3b",
            "_dom_classes": [],
            "description": "",
            "_model_name": "HTMLModel",
            "placeholder": "​",
            "_view_module": "@jupyter-widgets/controls",
            "_model_module_version": "1.5.0",
            "value": " 170499072/? [00:07&lt;00:00, 22218709.47it/s]",
            "_view_count": null,
            "_view_module_version": "1.5.0",
            "description_tooltip": null,
            "_model_module": "@jupyter-widgets/controls",
            "layout": "IPY_MODEL_e8c9b7ebb2264fdbb87550c0dd24e8d5"
          }
        },
        "db5ab8fc26694b98944c1060c2178b06": {
          "model_module": "@jupyter-widgets/controls",
          "model_name": "ProgressStyleModel",
          "state": {
            "_view_name": "StyleView",
            "_model_name": "ProgressStyleModel",
            "description_width": "initial",
            "_view_module": "@jupyter-widgets/base",
            "_model_module_version": "1.5.0",
            "_view_count": null,
            "_view_module_version": "1.2.0",
            "bar_color": null,
            "_model_module": "@jupyter-widgets/controls"
          }
        },
        "6e35c84aa3da457e97262035d025ae0b": {
          "model_module": "@jupyter-widgets/base",
          "model_name": "LayoutModel",
          "state": {
            "_view_name": "LayoutView",
            "grid_template_rows": null,
            "right": null,
            "justify_content": null,
            "_view_module": "@jupyter-widgets/base",
            "overflow": null,
            "_model_module_version": "1.2.0",
            "_view_count": null,
            "flex_flow": null,
            "width": null,
            "min_width": null,
            "border": null,
            "align_items": null,
            "bottom": null,
            "_model_module": "@jupyter-widgets/base",
            "top": null,
            "grid_column": null,
            "overflow_y": null,
            "overflow_x": null,
            "grid_auto_flow": null,
            "grid_area": null,
            "grid_template_columns": null,
            "flex": null,
            "_model_name": "LayoutModel",
            "justify_items": null,
            "grid_row": null,
            "max_height": null,
            "align_content": null,
            "visibility": null,
            "align_self": null,
            "height": null,
            "min_height": null,
            "padding": null,
            "grid_auto_rows": null,
            "grid_gap": null,
            "max_width": null,
            "order": null,
            "_view_module_version": "1.2.0",
            "grid_template_areas": null,
            "object_position": null,
            "object_fit": null,
            "grid_auto_columns": null,
            "margin": null,
            "display": null,
            "left": null
          }
        },
        "3158acde93e246ba9197750e04b3bf3b": {
          "model_module": "@jupyter-widgets/controls",
          "model_name": "DescriptionStyleModel",
          "state": {
            "_view_name": "StyleView",
            "_model_name": "DescriptionStyleModel",
            "description_width": "",
            "_view_module": "@jupyter-widgets/base",
            "_model_module_version": "1.5.0",
            "_view_count": null,
            "_view_module_version": "1.2.0",
            "_model_module": "@jupyter-widgets/controls"
          }
        },
        "e8c9b7ebb2264fdbb87550c0dd24e8d5": {
          "model_module": "@jupyter-widgets/base",
          "model_name": "LayoutModel",
          "state": {
            "_view_name": "LayoutView",
            "grid_template_rows": null,
            "right": null,
            "justify_content": null,
            "_view_module": "@jupyter-widgets/base",
            "overflow": null,
            "_model_module_version": "1.2.0",
            "_view_count": null,
            "flex_flow": null,
            "width": null,
            "min_width": null,
            "border": null,
            "align_items": null,
            "bottom": null,
            "_model_module": "@jupyter-widgets/base",
            "top": null,
            "grid_column": null,
            "overflow_y": null,
            "overflow_x": null,
            "grid_auto_flow": null,
            "grid_area": null,
            "grid_template_columns": null,
            "flex": null,
            "_model_name": "LayoutModel",
            "justify_items": null,
            "grid_row": null,
            "max_height": null,
            "align_content": null,
            "visibility": null,
            "align_self": null,
            "height": null,
            "min_height": null,
            "padding": null,
            "grid_auto_rows": null,
            "grid_gap": null,
            "max_width": null,
            "order": null,
            "_view_module_version": "1.2.0",
            "grid_template_areas": null,
            "object_position": null,
            "object_fit": null,
            "grid_auto_columns": null,
            "margin": null,
            "display": null,
            "left": null
          }
        }
      }
    }
  },
  "cells": [
    {
      "cell_type": "markdown",
      "metadata": {
        "id": "1X4X2hmaEmip"
      },
      "source": [
        "# Task 2: CNN with PyTorch\n",
        "# CENG501 - Spring 2021 - PA2 - Berker Acır - 2098697\n",
        "\n",
        "In this task, you will implement a convolutional neural network (CNN) with PyTorch. \n"
      ]
    },
    {
      "cell_type": "markdown",
      "metadata": {
        "id": "oRaKrjO5JSu-"
      },
      "source": [
        "## 1 Import the Modules\n",
        "\n",
        "Let us start with importing some libraries that we will use throughout the task."
      ]
    },
    {
      "cell_type": "code",
      "metadata": {
        "id": "v4L5nogMKyNx",
        "colab": {
          "base_uri": "https://localhost:8080/"
        },
        "outputId": "1c73e411-66c6-4de9-8176-4a2a5dc34a7f"
      },
      "source": [
        "import matplotlib.pyplot as plt # For plotting\n",
        "import numpy as np              # NumPy, for working with arrays/tensors \n",
        "import time                     # For measuring time\n",
        "import random                   # Python's random library\n",
        "\n",
        "# PyTorch libraries:\n",
        "import torch\n",
        "import torchvision\n",
        "import torchvision.transforms as transforms\n",
        "\n",
        "# install and import the torchinfo library\n",
        "!pip install torchinfo\n",
        "from torchinfo import summary\n",
        "\n",
        "\n",
        "%matplotlib inline\n",
        "plt.rcParams['figure.figsize'] = [12, 8]\n",
        "plt.rcParams['figure.dpi'] = 100 # 200 e.g. is really fine, but slower"
      ],
      "execution_count": null,
      "outputs": [
        {
          "output_type": "stream",
          "text": [
            "Collecting torchinfo\n",
            "  Downloading https://files.pythonhosted.org/packages/e7/d3/11f9901d75f4d105b2b1700c81f83579fd33c4cf0ec88bb7a165d96c7bb4/torchinfo-0.1.5-py3-none-any.whl\n",
            "Installing collected packages: torchinfo\n",
            "Successfully installed torchinfo-0.1.5\n"
          ],
          "name": "stdout"
        }
      ]
    },
    {
      "cell_type": "markdown",
      "metadata": {
        "id": "4BXVQOGRI4Sc"
      },
      "source": [
        "### 1.1 Enable GPU\n",
        "\n",
        "From \"Edit -> Notebook Settings -> Hardware accelerator\" select GPU. With the following we will specify to PyTorch that we want to use the GPU."
      ]
    },
    {
      "cell_type": "code",
      "metadata": {
        "id": "97DJEyArJLcR",
        "colab": {
          "base_uri": "https://localhost:8080/"
        },
        "outputId": "23e7be51-b3df-4be0-f6ac-edbaa63dd510"
      },
      "source": [
        "if torch.cuda.is_available():\n",
        "  print(\"Cuda (GPU support) is available and enabled!\")\n",
        "  device = torch.device(\"cuda\")\n",
        "else:\n",
        "  print(\"Cuda (GPU support) is not available :(\")\n",
        "  device = torch.device(\"cpu\")"
      ],
      "execution_count": null,
      "outputs": [
        {
          "output_type": "stream",
          "text": [
            "Cuda (GPU support) is available and enabled!\n"
          ],
          "name": "stdout"
        }
      ]
    },
    {
      "cell_type": "markdown",
      "metadata": {
        "id": "UMmi17e-JX7o"
      },
      "source": [
        "## 2 The Dataset\n",
        "\n",
        "We will use torchvision.datasets to download the CIFAR10 dataset. "
      ]
    },
    {
      "cell_type": "code",
      "metadata": {
        "id": "MlXFbhR8Aq0m",
        "colab": {
          "base_uri": "https://localhost:8080/",
          "height": 117,
          "referenced_widgets": [
            "93753fbec9e44ddd80801abc3eda6f07",
            "763f47cc3ca24736bb697642791a44cb",
            "1f780ebc8c3b430fb192137f7d60b0e6",
            "0e97ad87039c486389ab4c52f646c21e",
            "db5ab8fc26694b98944c1060c2178b06",
            "6e35c84aa3da457e97262035d025ae0b",
            "3158acde93e246ba9197750e04b3bf3b",
            "e8c9b7ebb2264fdbb87550c0dd24e8d5"
          ]
        },
        "outputId": "e7c82930-c578-4352-fdb2-bf1ba8dbd2fb"
      },
      "source": [
        "transform = transforms.Compose(\n",
        "    [transforms.ToTensor(),\n",
        "     transforms.Normalize((0.5, 0.5, 0.5), (0.5, 0.5, 0.5))])\n",
        "\n",
        "batch_size = 128\n",
        "\n",
        "trainset = torchvision.datasets.CIFAR10(root='./data', train=True,\n",
        "                                        download=True, transform=transform)\n",
        "trainloader = torch.utils.data.DataLoader(trainset, batch_size=batch_size,\n",
        "                                          shuffle=True, num_workers=2)\n",
        "\n",
        "testset = torchvision.datasets.CIFAR10(root='./data', train=False,\n",
        "                                       download=True, transform=transform)\n",
        "testloader = torch.utils.data.DataLoader(testset, batch_size=batch_size,\n",
        "                                         shuffle=False, num_workers=2)\n",
        "\n",
        "classes = ('plane', 'car', 'bird', 'cat',\n",
        "           'deer', 'dog', 'frog', 'horse', 'ship', 'truck')"
      ],
      "execution_count": null,
      "outputs": [
        {
          "output_type": "stream",
          "text": [
            "Downloading https://www.cs.toronto.edu/~kriz/cifar-10-python.tar.gz to ./data/cifar-10-python.tar.gz\n"
          ],
          "name": "stdout"
        },
        {
          "output_type": "display_data",
          "data": {
            "application/vnd.jupyter.widget-view+json": {
              "model_id": "93753fbec9e44ddd80801abc3eda6f07",
              "version_minor": 0,
              "version_major": 2
            },
            "text/plain": [
              "HBox(children=(FloatProgress(value=0.0, max=170498071.0), HTML(value='')))"
            ]
          },
          "metadata": {
            "tags": []
          }
        },
        {
          "output_type": "stream",
          "text": [
            "\n",
            "Extracting ./data/cifar-10-python.tar.gz to ./data\n",
            "Files already downloaded and verified\n"
          ],
          "name": "stdout"
        }
      ]
    },
    {
      "cell_type": "markdown",
      "metadata": {
        "id": "0i9tug4jGGg4"
      },
      "source": [
        "### 2.1 Visualize Samples"
      ]
    },
    {
      "cell_type": "code",
      "metadata": {
        "id": "aiLTjQoKBIpQ",
        "colab": {
          "base_uri": "https://localhost:8080/",
          "height": 264
        },
        "outputId": "fc5a5002-72a6-484f-9912-a608ab24b78d"
      },
      "source": [
        "dataiter = iter(trainloader)\n",
        "classes = ['plane', 'car', 'bird', 'cat', 'deer', 'dog', 'frog', 'horse', 'ship', 'truck']\n",
        "S = 4\n",
        "\n",
        "for i in range(S):\n",
        "  for j in range(S):\n",
        "    images, labels = dataiter.next()\n",
        "    X = np.transpose(images[0].numpy()/2+0.5, (1, 2, 0))\n",
        "    y = labels[0]\n",
        "\n",
        "    plt.subplot(S, S, i*S+j+1)\n",
        "    plt.imshow(X)\n",
        "    plt.axis('off')\n",
        "    plt.title(classes[y])\n",
        "    plt.subplots_adjust(hspace = 0.5)\n",
        "\n",
        "plt.show()"
      ],
      "execution_count": null,
      "outputs": [
        {
          "output_type": "display_data",
          "data": {
            "image/png": "[encoded data removed]",
            "text/plain": [
              "<Figure size 432x288 with 16 Axes>"
            ]
          },
          "metadata": {
            "tags": [],
            "needs_background": "light"
          }
        }
      ]
    },
    {
      "cell_type": "markdown",
      "metadata": {
        "id": "kUmdAA1QJvRx"
      },
      "source": [
        "## 4 Define and Train a Small CNN Model\n",
        "\n",
        "Now, all the pieces are ready and we can define a model."
      ]
    },
    {
      "cell_type": "markdown",
      "metadata": {
        "id": "fJq7aT_wh9SK"
      },
      "source": [
        "### 4.1 Model Definition\n",
        "\n",
        "Create a three-layer CNN with the following layers:\n",
        "\n",
        "| Layer Name | Input HxW | Filter size | Stride | Pad | # of in channels | Out HxW | # of out channels | \n",
        "| ----| -----| ----| ---| ---| ----| -----|---------- |\n",
        "| Conv1   | 32x32 | ? | ? | ? | 3  | 28x28 | 16 |\n",
        "| Conv2   | 28x28 | ? | ? | ? | 16 | 26x26 | 32 |\n",
        "| Maxpool | 26x26 | 4 | 2 | 0 | 32 | 12x12 | 32 |\n",
        "| Conv3   | 12x12 | ? | ? | ? | 32 | 10x10 | 32 |\n",
        "\n",
        "and the fully-connected layers:\n",
        "\n",
        "| Layer Name | Input Size | Output size | \n",
        "| ----| -----| ----| \n",
        "| FC1 | 3200 | 1500 |\n",
        "| FC2 | 1500 | 10 | \n",
        "\n",
        "While creating your model, pay attention to the following aspects:\n",
        "* Each Conv layer and FC layer will be followed by ReLU, except for the last one.\n",
        "* You should keep all other parameters (dilation, bias, group-mode, ..) as their default values in Pytorch.\n",
        "\n",
        "You will need to read the following pages from Pytorch regarding the layers that you will use:\n",
        "* [Conv2d](https://pytorch.org/docs/stable/generated/torch.nn.Conv2d.html)\n",
        "* [MaxPool2d](https://pytorch.org/docs/stable/generated/torch.nn.MaxPool2d.html?highlight=maxpool#torch.nn.MaxPool2d)"
      ]
    },
    {
      "cell_type": "code",
      "metadata": {
        "id": "n13wrSZTiDEp"
      },
      "source": [
        "import torch.nn as nn\n",
        "import torch.nn.functional as F\n",
        "\n",
        "class SmallCNN(nn.Module):\n",
        "    def __init__(self):\n",
        "        super(SmallCNN, self).__init__()\n",
        "        torch.manual_seed(501)\n",
        "        random.seed(501)\n",
        "        np.random.seed(501)       \n",
        "        self.conv1 = None\n",
        "        self.conv2 = None\n",
        "        self.maxpool = None\n",
        "        self.conv3 = None\n",
        "        self.fc1 = None\n",
        "        self.fc2 = None\n",
        "        ###########################################################\n",
        "        # @TODO: Create the convolutional and FC layers as        #\n",
        "        #  described above.                                       #\n",
        "        ###########################################################\n",
        "        self.conv1 = nn.Conv2d(3, 16, 5, stride=1, padding=0)\n",
        "        self.conv2 = nn.Conv2d(16, 32, 3, stride=1, padding=0)\n",
        "        self.maxpool = nn.MaxPool2d(4, stride=2, padding=0)\n",
        "        self.conv3 = nn.Conv2d(32, 32, 3, stride=1, padding=0)\n",
        "        self.fc1 = nn.Linear(3200, 1500)\n",
        "        self.fc2 = nn.Linear(1500, 10)\n",
        "        ###########################################################\n",
        "        #                         END OF YOUR CODE                #\n",
        "        ###########################################################\n",
        "\n",
        "    def forward(self, x):\n",
        "      ###########################################################\n",
        "      # @TODO: Feedforward x through the layers. Note that x    #\n",
        "      # needs to be reshaped to (batchsize, 3200) before        #\n",
        "      # the FC layers.                                          #\n",
        "      ###########################################################\n",
        "      x = self.conv1(x)\n",
        "      x = F.relu(x)\n",
        "      x = self.conv2(x)\n",
        "      x = F.relu(x)\n",
        "      x = self.maxpool(x)\n",
        "      x = self.conv3(x)\n",
        "      x = F.relu(x)\n",
        "      N, C, H, W = x.shape\n",
        "      x = x.reshape(N, C*H*W)\n",
        "      x = self.fc1(x)\n",
        "      x = F.relu(x)\n",
        "      x = self.fc2(x)\n",
        "      ###########################################################\n",
        "      #                         END OF YOUR CODE                #\n",
        "      ###########################################################\n",
        "      return x"
      ],
      "execution_count": null,
      "outputs": []
    },
    {
      "cell_type": "markdown",
      "metadata": {
        "id": "CvpiVF5uiBE9"
      },
      "source": [
        "### 4.2 Trainer for the Model\n",
        "\n",
        "Let us define our training function, which will use the cuda device for training the model."
      ]
    },
    {
      "cell_type": "code",
      "metadata": {
        "id": "5Flgr2C6Xb2s"
      },
      "source": [
        "def train(model, criterion, optimizer, epochs, dataloader, verbose=True):\n",
        "  \"\"\"\n",
        "    Define the trainer function. We can use this for training any model.\n",
        "    The parameter names are self-explanatory.\n",
        "\n",
        "    Returns: the loss history.\n",
        "  \"\"\"\n",
        "  loss_history = [] \n",
        "  for epoch in range(epochs):\n",
        "    for i, data in enumerate(dataloader, 0):    \n",
        "      \n",
        "      # Our batch:\n",
        "      inputs, labels = data\n",
        "      inputs = inputs.to(device)\n",
        "      labels = labels.to(device)\n",
        "\n",
        "      # zero the gradients as PyTorch accumulates them\n",
        "      optimizer.zero_grad()\n",
        "\n",
        "      # Obtain the scores\n",
        "      outputs = model(inputs)\n",
        "\n",
        "      # Calculate loss\n",
        "      loss = criterion(outputs.to(device), labels)\n",
        "\n",
        "      # Backpropagate\n",
        "      loss.backward()\n",
        "\n",
        "      # Update the weights\n",
        "      optimizer.step()\n",
        "\n",
        "      loss_history.append(loss.item())\n",
        "    \n",
        "    if verbose: print(f'Epoch {epoch} / {epochs}: avg. loss of last 5 iterations {np.sum(loss_history[:-6:-1])/5}')\n",
        "\n",
        "  return loss_history"
      ],
      "execution_count": null,
      "outputs": []
    },
    {
      "cell_type": "markdown",
      "metadata": {
        "id": "L_QLjjxUIkKs"
      },
      "source": [
        "### 4.3 Create and visualize the model"
      ]
    },
    {
      "cell_type": "code",
      "metadata": {
        "id": "jIHLBpztIeWa",
        "colab": {
          "base_uri": "https://localhost:8080/"
        },
        "outputId": "6c81bd65-b656-420a-dbc7-33b5c7fde5b2"
      },
      "source": [
        "model = SmallCNN()\n",
        "\n",
        "summary(model, input_size=(batch_size, 3, 32, 32))"
      ],
      "execution_count": null,
      "outputs": [
        {
          "output_type": "stream",
          "text": [
            "/usr/local/lib/python3.7/dist-packages/torch/nn/functional.py:718: UserWarning: Named tensors and all their associated APIs are an experimental feature and subject to change. Please do not use them for anything important until they are released as stable. (Triggered internally at  /pytorch/c10/core/TensorImpl.h:1156.)\n",
            "  return torch.max_pool2d(input, kernel_size, stride, padding, dilation, ceil_mode)\n"
          ],
          "name": "stderr"
        },
        {
          "output_type": "execute_result",
          "data": {
            "text/plain": [
              "==========================================================================================\n",
              "Layer (type:depth-idx)                   Output Shape              Param #\n",
              "==========================================================================================\n",
              "SmallCNN                                 --                        --\n",
              "├─Conv2d: 1-1                            [128, 16, 28, 28]         1,216\n",
              "├─Conv2d: 1-2                            [128, 32, 26, 26]         4,640\n",
              "├─MaxPool2d: 1-3                         [128, 32, 12, 12]         --\n",
              "├─Conv2d: 1-4                            [128, 32, 10, 10]         9,248\n",
              "├─Linear: 1-5                            [128, 1500]               4,801,500\n",
              "├─Linear: 1-6                            [128, 10]                 15,010\n",
              "==========================================================================================\n",
              "Total params: 4,831,614\n",
              "Trainable params: 4,831,614\n",
              "Non-trainable params: 0\n",
              "Total mult-adds (G): 1.26\n",
              "==========================================================================================\n",
              "Input size (MB): 1.57\n",
              "Forward/backward pass size (MB): 39.82\n",
              "Params size (MB): 19.33\n",
              "Estimated Total Size (MB): 60.72\n",
              "=========================================================================================="
            ]
          },
          "metadata": {
            "tags": []
          },
          "execution_count": 7
        }
      ]
    },
    {
      "cell_type": "markdown",
      "metadata": {
        "id": "0r8pT7Y9FmDH"
      },
      "source": [
        "### 4.4 Train the Small Model\n",
        "\n",
        "We will create an instance of our model and \"define\" which loss function we want to use. We will also state our choice for the optimizer here.\n",
        "\n",
        "For more information, check the PyTorch docs: [CrossEntropyLoss](https://pytorch.org/docs/stable/generated/torch.nn.CrossEntropyLoss.html) and [SGD](https://pytorch.org/docs/stable/optim.html#torch.optim.SGD)."
      ]
    },
    {
      "cell_type": "code",
      "metadata": {
        "id": "8Gg_Xp3vrg42",
        "colab": {
          "base_uri": "https://localhost:8080/"
        },
        "outputId": "338574a0-28b9-4651-bda9-352f3995448f"
      },
      "source": [
        "import torch.optim as optim\n",
        "\n",
        "criterion = nn.CrossEntropyLoss()\n",
        "optimizer = optim.SGD(model.parameters(), lr=0.001, momentum=0.9)\n",
        "\n",
        "model = model.to(device)\n",
        "epochs = 10\n",
        "loss_history = train(model, criterion, optimizer, epochs, trainloader)"
      ],
      "execution_count": null,
      "outputs": [
        {
          "output_type": "stream",
          "text": [
            "Epoch 0 / 10: avg. loss of last 5 iterations 2.252833938598633\n",
            "Epoch 1 / 10: avg. loss of last 5 iterations 1.9602846384048462\n",
            "Epoch 2 / 10: avg. loss of last 5 iterations 1.7500487089157104\n",
            "Epoch 3 / 10: avg. loss of last 5 iterations 1.6033190488815308\n",
            "Epoch 4 / 10: avg. loss of last 5 iterations 1.5140965700149536\n",
            "Epoch 5 / 10: avg. loss of last 5 iterations 1.4129035711288451\n",
            "Epoch 6 / 10: avg. loss of last 5 iterations 1.3084203481674195\n",
            "Epoch 7 / 10: avg. loss of last 5 iterations 1.2826390743255616\n",
            "Epoch 8 / 10: avg. loss of last 5 iterations 1.2921135187149049\n",
            "Epoch 9 / 10: avg. loss of last 5 iterations 1.266666007041931\n"
          ],
          "name": "stdout"
        }
      ]
    },
    {
      "cell_type": "markdown",
      "metadata": {
        "id": "DILBn6y92Ceg"
      },
      "source": [
        "### 4.5 The Loss Curve\n",
        "\n",
        "Let us visualize the loss curve."
      ]
    },
    {
      "cell_type": "code",
      "metadata": {
        "id": "bNZBSrzXiVVe",
        "colab": {
          "base_uri": "https://localhost:8080/",
          "height": 279
        },
        "outputId": "58327e3f-5091-4f35-8403-d523a738c86e"
      },
      "source": [
        "plt.plot(loss_history)\n",
        "plt.xlabel('Iteration number')\n",
        "plt.ylabel('Loss value')\n",
        "plt.show()"
      ],
      "execution_count": null,
      "outputs": [
        {
          "output_type": "display_data",
          "data": {
            "image/png": "[encoded data removed]",
            "text/plain": [
              "<Figure size 432x288 with 1 Axes>"
            ]
          },
          "metadata": {
            "tags": [],
            "needs_background": "light"
          }
        }
      ]
    },
    {
      "cell_type": "markdown",
      "metadata": {
        "id": "KPMf0jfF2zo6"
      },
      "source": [
        "### 4.6 Quantitative Analysis\n",
        "\n",
        "We can analyze the accuracy of the predictions as follows. You should see around 54\\% accuracies. We can finetune the hyperparameters to obtain better results. But we will skip that and go for a bigger model.\n",
        "\n",
        "*Disclaimer: This code piece is taken from PyTorch examples.*"
      ]
    },
    {
      "cell_type": "code",
      "metadata": {
        "id": "5PAV1QQw218J",
        "colab": {
          "base_uri": "https://localhost:8080/"
        },
        "outputId": "f2a575b9-1368-4cca-d0f5-a6cb5dae30e2"
      },
      "source": [
        "correct = 0\n",
        "total = 0\n",
        "model = model.to(\"cpu\")\n",
        "with torch.no_grad():\n",
        "    for data in testloader:\n",
        "        images, labels = data\n",
        "        outputs = model(images)\n",
        "        _, predicted = torch.max(outputs.data, 1)\n",
        "        total += labels.size(0)\n",
        "        correct += (predicted == labels).sum().item()\n",
        "\n",
        "print('Accuracy of the network on the 10000 test images: %d %%' % (\n",
        "    100 * correct / total))"
      ],
      "execution_count": null,
      "outputs": [
        {
          "output_type": "stream",
          "text": [
            "Accuracy of the network on the 10000 test images: 54 %\n"
          ],
          "name": "stdout"
        }
      ]
    },
    {
      "cell_type": "markdown",
      "metadata": {
        "id": "M4AJXtea2427"
      },
      "source": [
        "## 5 Your CNN\n",
        "\n",
        "Now, create your own CNN. It should have at least 5 convolutional layers. Otherwise, there is no restriction on what you can use in your CNN or how you can structure it. \n"
      ]
    },
    {
      "cell_type": "markdown",
      "metadata": {
        "id": "Dr7NvUrWW9ax"
      },
      "source": [
        "### 5.1 Model Definition"
      ]
    },
    {
      "cell_type": "markdown",
      "metadata": {
        "id": "OeTv_WsRStXL"
      },
      "source": [
        "YourCNN model is obtained from different model trials in **Section 5.1.1**."
      ]
    },
    {
      "cell_type": "code",
      "metadata": {
        "id": "qmBmxHGoVE_F"
      },
      "source": [
        "import torch.nn as nn\n",
        "import torch.nn.functional as F\n",
        "\n",
        "class YourCNN(nn.Module):\n",
        "    def __init__(self):\n",
        "        super().__init__()\n",
        "        torch.manual_seed(501)\n",
        "        random.seed(501)\n",
        "        np.random.seed(501)       \n",
        "        ###########################################################\n",
        "        # @TODO: Create your layers here.                         #\n",
        "        ###########################################################\n",
        "        self.conv1_1 = nn.Conv2d(3, 32, 3, stride=1, padding=1)     # 32\n",
        "        self.conv1_2 = nn.Conv2d(32, 32, 3, stride=1, padding=1)    # 32\n",
        "        self.conv1_3 = nn.Conv2d(32, 32, 3, stride=1, padding=1)    # 32\n",
        "        self.batchNorm1 = nn.BatchNorm2d(32)\n",
        "        self.maxPool1 = nn.MaxPool2d(2, stride=2, padding=0)        # 16\n",
        "        self.conv2_1 = nn.Conv2d(32, 64, 3, stride=1, padding=1)    # 16\n",
        "        self.conv2_2 = nn.Conv2d(64, 64, 3, stride=1, padding=1)    # 16\n",
        "        self.conv2_3 = nn.Conv2d(64, 64, 3, stride=1, padding=1)    # 16\n",
        "        self.batchNorm2 = nn.BatchNorm2d(64)\n",
        "        self.maxPool2 = nn.MaxPool2d(2, stride=2, padding=0)        # 8\n",
        "        self.conv3_1 = nn.Conv2d(64, 128, 3, stride=1, padding=1)   # 8\n",
        "        self.conv3_2 = nn.Conv2d(128, 128, 3, stride=1, padding=1)  # 8\n",
        "        self.conv3_3 = nn.Conv2d(128, 128, 3, stride=1, padding=1)  # 8\n",
        "        self.batchNorm3 = nn.BatchNorm2d(128)\n",
        "        self.maxPool3 = nn.MaxPool2d(2, stride=2, padding=0)        # 4\n",
        "        self.fc1 = nn.Linear(2048, 128)\n",
        "        self.fc2 = nn.Linear(128, 10)\n",
        "        ###########################################################\n",
        "        #                         END OF YOUR CODE                #\n",
        "        ###########################################################\n",
        "\n",
        "    def forward(self, x):\n",
        "      ###########################################################\n",
        "      # @TODO: Feedforward x through the layers.                #\n",
        "      ###########################################################\n",
        "      x = F.relu(self.conv1_1(x))\n",
        "      x = F.relu(self.conv1_2(x))\n",
        "      x = F.relu(self.conv1_3(x))\n",
        "      x = self.batchNorm1(x)\n",
        "      x = self.maxPool1(x)\n",
        "      x = F.relu(self.conv2_1(x))\n",
        "      x = F.relu(self.conv2_2(x))\n",
        "      x = F.relu(self.conv2_3(x))\n",
        "      x = self.batchNorm2(x)\n",
        "      x = self.maxPool2(x)\n",
        "      x = F.relu(self.conv3_1(x))\n",
        "      x = F.relu(self.conv3_2(x))\n",
        "      x = F.relu(self.conv3_3(x))\n",
        "      x = self.batchNorm3(x)\n",
        "      x = self.maxPool3(x)\n",
        "\n",
        "      N, C, H, W = x.shape\n",
        "      x = x.reshape(N, C*H*W)\n",
        "      x = F.relu(self.fc1(x))\n",
        "      x = self.fc2(x)\n",
        "      ###########################################################\n",
        "      #                         END OF YOUR CODE                #\n",
        "      ###########################################################\n",
        "      return x"
      ],
      "execution_count": null,
      "outputs": []
    },
    {
      "cell_type": "markdown",
      "metadata": {
        "id": "ceRsRxExPbR3"
      },
      "source": [
        "#### 5.1.1 Other Model Definitions"
      ]
    },
    {
      "cell_type": "markdown",
      "metadata": {
        "id": "Kf4mLmmuXnvg"
      },
      "source": [
        "SmallCNN model that we defined above achieves %54 accuracy. This section contains other models definitions that I tried to achieve the highest accuracy.\n",
        "\n",
        "| Model Name | Accuracy |\n",
        "| ---------- | -------- |\n",
        "| SmallCNN   | 54%      |\n",
        "| CNN1       | 41%      |\n",
        "| CNN2       | 48%      |\n",
        "| CNN3       | 50%      |\n",
        "| CNN4       | 43%      |\n",
        "| CNN5       | 44%      |\n",
        "| CNN6       | 53%      |\n",
        "| CNN7       | 53%      |\n",
        "| CNN8       | 55%      |\n",
        "| CNN8_SM    | 29%      |\n",
        "| CNN8_D     | 52%      |\n",
        "| CNN9       | 19%      |\n",
        "| CNN9_BN1   | 75%      |\n",
        "| CNN9_BN2   | 76%      |\n",
        "| CNN10      | 10%      |\n",
        "| **CNN10_BN1**  | 77%      |\n",
        "| CNN10_BN1_D| 76%      |\n",
        "| CNN10_BN2  | 76%      |\n",
        "| CNN11_BN   | 74%      |\n",
        "| CNN12_BN   | 74%      |\n",
        "| CNN13_BN   | 73%      |\n",
        "| CNN14_BN   | 73%      |\n",
        "\n",
        "From the loss curves and accuracies of different models, I observed that 10 epochs were not enough for achieving great accuracies when I tried training deeper models with current configurations as the loss curves decrease after a while or do not decrease at all. Therefore, I thought that I could try training with different smaller models or better weight initialization methods in order to achieve better results. However, I could  achieve only 55% accuracy with using only convolution, pooling and fully connected layers. I did not play with the loss function and the optimizer.\n",
        "\n",
        "I thought that batch normalization layers could be added to a deeper network instead of trying different weight initialization methods. Batch normalization layers increased the accuracy a lot when compared with the same model without batch normalization layers! As a result, I can say that batch normalization layers have great effect on training deeper convolutional neural networks.\n",
        "\n",
        "I also tried different non-linear functions (sigmoid, tanh, softmax) at output of the models, but they seemed to decrease the models' accuracies. In addition to these methods, I tried using dropout method in fully connected layers. Yet, I didn't find that helpful neither."
      ]
    },
    {
      "cell_type": "code",
      "metadata": {
        "id": "9o54i-PYPpCg"
      },
      "source": [
        "import torch.nn as nn\n",
        "import torch.nn.functional as F\n",
        "\n",
        "class CNN1(nn.Module):\n",
        "    def __init__(self):\n",
        "        super().__init__()\n",
        "        torch.manual_seed(501)\n",
        "        random.seed(501)\n",
        "        np.random.seed(501)\n",
        "        \n",
        "        self.conv1_1 = nn.Conv2d(3, 16, 5, stride=1, padding=0)\n",
        "        self.conv1_2 = nn.Conv2d(16, 16, 5, stride=1, padding=0)\n",
        "        self.maxPool1 = nn.MaxPool2d(2, stride=2, padding=0)\n",
        "        self.conv2_1 = nn.Conv2d(16, 32, 3, stride=1, padding=0)\n",
        "        self.conv2_2 = nn.Conv2d(32, 32, 3, stride=1, padding=0)\n",
        "        self.maxPool2 = nn.MaxPool2d(2, stride=2, padding=0)\n",
        "        self.fc1 = nn.Linear(512, 256)\n",
        "        self.fc2 = nn.Linear(256, 10)\n",
        "\n",
        "    def forward(self, x):\n",
        "      x = F.relu(self.conv1_1(x))\n",
        "      x = F.relu(self.conv1_2(x))\n",
        "      x = self.maxPool1(x)\n",
        "      x = F.relu(self.conv2_1(x))\n",
        "      x = F.relu(self.conv2_2(x))\n",
        "      x = self.maxPool2(x)\n",
        "\n",
        "      N, C, H, W = x.shape\n",
        "      x = x.reshape(N, C*H*W)\n",
        "      x = F.relu(self.fc1(x))\n",
        "      x = self.fc2(x)\n",
        "      return x"
      ],
      "execution_count": null,
      "outputs": []
    },
    {
      "cell_type": "code",
      "metadata": {
        "id": "8pwPEWm1Z6Ah"
      },
      "source": [
        "import torch.nn as nn\n",
        "import torch.nn.functional as F\n",
        "\n",
        "class CNN2(nn.Module):\n",
        "    def __init__(self):\n",
        "        super().__init__()\n",
        "        torch.manual_seed(501)\n",
        "        random.seed(501)\n",
        "        np.random.seed(501)\n",
        "        \n",
        "        self.conv1_1 = nn.Conv2d(3, 16, 5, stride=1, padding=0)\n",
        "        self.conv1_2 = nn.Conv2d(16, 16, 5, stride=1, padding=0)\n",
        "        self.maxPool1 = nn.MaxPool2d(2, stride=2, padding=0)\n",
        "        self.conv2_1 = nn.Conv2d(16, 32, 3, stride=1, padding=0)\n",
        "        self.conv2_2 = nn.Conv2d(32, 32, 3, stride=1, padding=0)\n",
        "        self.fc1 = nn.Linear(2048, 1024)\n",
        "        self.fc2 = nn.Linear(1024, 10)\n",
        "\n",
        "    def forward(self, x):\n",
        "      x = F.relu(self.conv1_1(x))\n",
        "      x = F.relu(self.conv1_2(x))\n",
        "      x = self.maxPool1(x)\n",
        "      x = F.relu(self.conv2_1(x))\n",
        "      x = F.relu(self.conv2_2(x))\n",
        "\n",
        "      N, C, H, W = x.shape\n",
        "      x = x.reshape(N, C*H*W)\n",
        "      x = F.relu(self.fc1(x))\n",
        "      x = self.fc2(x)\n",
        "      return x"
      ],
      "execution_count": null,
      "outputs": []
    },
    {
      "cell_type": "code",
      "metadata": {
        "id": "zjNNx5sBa3rM"
      },
      "source": [
        "import torch.nn as nn\n",
        "import torch.nn.functional as F\n",
        "\n",
        "class CNN3(nn.Module):\n",
        "    def __init__(self):\n",
        "        super().__init__()\n",
        "        torch.manual_seed(501)\n",
        "        random.seed(501)\n",
        "        np.random.seed(501)\n",
        "        \n",
        "        self.conv1_1 = nn.Conv2d(3, 16, 5, stride=1, padding=0)\n",
        "        self.conv1_2 = nn.Conv2d(16, 32, 5, stride=1, padding=0)\n",
        "        self.maxPool1 = nn.MaxPool2d(2, stride=2, padding=0)\n",
        "        self.conv2_1 = nn.Conv2d(32, 32, 3, stride=1, padding=0)\n",
        "        self.conv2_2 = nn.Conv2d(32, 64, 3, stride=1, padding=0)\n",
        "        self.fc1 = nn.Linear(4096, 2048)\n",
        "        self.fc2 = nn.Linear(2048, 10)\n",
        "\n",
        "    def forward(self, x):\n",
        "      x = F.relu(self.conv1_1(x))\n",
        "      x = F.relu(self.conv1_2(x))\n",
        "      x = self.maxPool1(x)\n",
        "      x = F.relu(self.conv2_1(x))\n",
        "      x = F.relu(self.conv2_2(x))\n",
        "\n",
        "      N, C, H, W = x.shape\n",
        "      x = x.reshape(N, C*H*W)\n",
        "      x = F.relu(self.fc1(x))\n",
        "      x = self.fc2(x)\n",
        "      return x"
      ],
      "execution_count": null,
      "outputs": []
    },
    {
      "cell_type": "code",
      "metadata": {
        "id": "wFmzVJa0dPLo"
      },
      "source": [
        "import torch.nn as nn\n",
        "import torch.nn.functional as F\n",
        "\n",
        "class CNN4(nn.Module):\n",
        "    def __init__(self):\n",
        "        super().__init__()\n",
        "        torch.manual_seed(501)\n",
        "        random.seed(501)\n",
        "        np.random.seed(501)\n",
        "        \n",
        "        self.conv1_1 = nn.Conv2d(3, 16, 5, stride=1, padding=0)   #28\n",
        "        self.conv1_2 = nn.Conv2d(16, 32, 3, stride=1, padding=1)  #28\n",
        "        self.conv1_3 = nn.Conv2d(32, 32, 3, stride=1, padding=1)  #28\n",
        "        self.maxPool1 = nn.MaxPool2d(2, stride=2, padding=0)      #14\n",
        "        self.conv2_1 = nn.Conv2d(32, 32, 3, stride=1, padding=1)  #14\n",
        "        self.conv2_2 = nn.Conv2d(32, 64, 3, stride=1, padding=1)  #14\n",
        "        self.conv2_3 = nn.Conv2d(64, 64, 3, stride=1, padding=0)  #12\n",
        "        self.fc1 = nn.Linear(9216, 4096)\n",
        "        self.fc2 = nn.Linear(4096, 10)\n",
        "\n",
        "    def forward(self, x):\n",
        "      x = F.relu(self.conv1_1(x))\n",
        "      x = F.relu(self.conv1_2(x))\n",
        "      x = F.relu(self.conv1_3(x))\n",
        "      x = self.maxPool1(x)\n",
        "      x = F.relu(self.conv2_1(x))\n",
        "      x = F.relu(self.conv2_2(x))\n",
        "      x = F.relu(self.conv2_3(x))\n",
        "\n",
        "      N, C, H, W = x.shape\n",
        "      x = x.reshape(N, C*H*W)\n",
        "      x = F.relu(self.fc1(x))\n",
        "      x = self.fc2(x)\n",
        "      return x"
      ],
      "execution_count": null,
      "outputs": []
    },
    {
      "cell_type": "code",
      "metadata": {
        "id": "X5E1rrxniqW6"
      },
      "source": [
        "import torch.nn as nn\n",
        "import torch.nn.functional as F\n",
        "\n",
        "class CNN5(nn.Module):\n",
        "    def __init__(self):\n",
        "        super().__init__()\n",
        "        torch.manual_seed(501)\n",
        "        random.seed(501)\n",
        "        np.random.seed(501)\n",
        "\n",
        "        self.conv1_1 = nn.Conv2d(3, 16, 5, stride=1, padding=0)   #28\n",
        "        self.conv1_2 = nn.Conv2d(16, 32, 3, stride=1, padding=0)  #26\n",
        "        self.conv1_3 = nn.Conv2d(32, 32, 3, stride=1, padding=0)  #24\n",
        "        self.conv1_4 = nn.Conv2d(32, 32, 3, stride=1, padding=0)  #22\n",
        "        self.conv1_5 = nn.Conv2d(32, 32, 3, stride=1, padding=0)  #20\n",
        "        self.fc1 = nn.Linear(12800, 6000)\n",
        "        self.fc2 = nn.Linear(6000, 2000)\n",
        "        self.fc3 = nn.Linear(2000, 10)\n",
        "\n",
        "    def forward(self, x):\n",
        "      x = F.relu(self.conv1_1(x))\n",
        "      x = F.relu(self.conv1_2(x))\n",
        "      x = F.relu(self.conv1_3(x))\n",
        "      x = F.relu(self.conv1_4(x))\n",
        "      x = F.relu(self.conv1_5(x))\n",
        "\n",
        "      N, C, H, W = x.shape\n",
        "      x = x.reshape(N, C*H*W)\n",
        "      x = F.relu(self.fc1(x))\n",
        "      x = F.relu(self.fc2(x))\n",
        "      x = self.fc3(x)\n",
        "      return x"
      ],
      "execution_count": null,
      "outputs": []
    },
    {
      "cell_type": "code",
      "metadata": {
        "id": "0VqE43fXo3hJ"
      },
      "source": [
        "import torch.nn as nn\n",
        "import torch.nn.functional as F\n",
        "\n",
        "class CNN6(nn.Module):\n",
        "    def __init__(self):\n",
        "        super().__init__()\n",
        "        torch.manual_seed(501)\n",
        "        random.seed(501)\n",
        "        np.random.seed(501)\n",
        "        \n",
        "        self.conv1_1 = nn.Conv2d(3, 16, 5, stride=1, padding=0)   # 28\n",
        "        self.conv1_2 = nn.Conv2d(16, 32, 3, stride=1, padding=0)  # 26\n",
        "        self.conv1_3 = nn.Conv2d(32, 32, 3, stride=1, padding=0)  # 24\n",
        "        self.maxPool1 = nn.MaxPool2d(2, stride=2, padding=0)      # 12\n",
        "        self.fc1 = nn.Linear(4608, 2000)\n",
        "        self.fc2 = nn.Linear(2000, 10)\n",
        "\n",
        "    def forward(self, x):\n",
        "      x = F.relu(self.conv1_1(x))\n",
        "      x = F.relu(self.conv1_2(x))\n",
        "      x = F.relu(self.conv1_3(x))\n",
        "      x = self.maxPool1(x)\n",
        "\n",
        "      N, C, H, W = x.shape\n",
        "      x = x.reshape(N, C*H*W)\n",
        "      x = F.relu(self.fc1(x))\n",
        "      x = self.fc2(x)\n",
        "      return x"
      ],
      "execution_count": null,
      "outputs": []
    },
    {
      "cell_type": "code",
      "metadata": {
        "id": "SBmsCPnssoGu"
      },
      "source": [
        "import torch.nn as nn\n",
        "import torch.nn.functional as F\n",
        "\n",
        "class CNN7(nn.Module):\n",
        "    def __init__(self):\n",
        "        super().__init__()\n",
        "        torch.manual_seed(501)\n",
        "        random.seed(501)\n",
        "        np.random.seed(501)\n",
        "        \n",
        "        self.conv1_1 = nn.Conv2d(3, 16, 5, stride=1, padding=2)   # 32\n",
        "        self.conv1_2 = nn.Conv2d(16, 16, 3, stride=1, padding=1)  # 32\n",
        "        self.conv1_3 = nn.Conv2d(16, 32, 3, stride=1, padding=1)  # 32\n",
        "        self.maxPool1 = nn.MaxPool2d(2, stride=2, padding=0)      # 16\n",
        "        self.fc1 = nn.Linear(8192, 4000)\n",
        "        self.fc2 = nn.Linear(4000, 10)\n",
        "\n",
        "    def forward(self, x):\n",
        "      x = F.relu(self.conv1_1(x))\n",
        "      x = F.relu(self.conv1_2(x))\n",
        "      x = F.relu(self.conv1_3(x))\n",
        "      x = self.maxPool1(x)\n",
        "\n",
        "      N, C, H, W = x.shape\n",
        "      x = x.reshape(N, C*H*W)\n",
        "      x = F.relu(self.fc1(x))\n",
        "      x = self.fc2(x)\n",
        "      return x"
      ],
      "execution_count": null,
      "outputs": []
    },
    {
      "cell_type": "code",
      "metadata": {
        "id": "0DgXSjK9t1CO"
      },
      "source": [
        "import torch.nn as nn\n",
        "import torch.nn.functional as F\n",
        "\n",
        "class CNN8(nn.Module):\n",
        "    def __init__(self):\n",
        "        super().__init__()\n",
        "        torch.manual_seed(501)\n",
        "        random.seed(501)\n",
        "        np.random.seed(501)\n",
        "        \n",
        "        self.conv1_1 = nn.Conv2d(3, 16, 5, stride=1, padding=2)   # 32\n",
        "        self.conv1_2 = nn.Conv2d(16, 16, 3, stride=1, padding=1)  # 32\n",
        "        self.conv1_3 = nn.Conv2d(16, 16, 3, stride=1, padding=1)  # 32\n",
        "        self.maxPool1 = nn.MaxPool2d(2, stride=2, padding=0)      # 16\n",
        "        self.fc1 = nn.Linear(4096, 2000)\n",
        "        self.fc2 = nn.Linear(2000, 10)\n",
        "\n",
        "    def forward(self, x):\n",
        "      x = F.relu(self.conv1_1(x))\n",
        "      x = F.relu(self.conv1_2(x))\n",
        "      x = F.relu(self.conv1_3(x))\n",
        "      x = self.maxPool1(x)\n",
        "\n",
        "      N, C, H, W = x.shape\n",
        "      x = x.reshape(N, C*H*W)\n",
        "      x = F.relu(self.fc1(x))\n",
        "      x = self.fc2(x)\n",
        "      return x"
      ],
      "execution_count": null,
      "outputs": []
    },
    {
      "cell_type": "code",
      "metadata": {
        "id": "hLPfh99I3IRM"
      },
      "source": [
        "import torch.nn as nn\n",
        "import torch.nn.functional as F\n",
        "\n",
        "class CNN8_SM(nn.Module):\n",
        "    def __init__(self):\n",
        "        super().__init__()\n",
        "        torch.manual_seed(501)\n",
        "        random.seed(501)\n",
        "        np.random.seed(501)\n",
        "        \n",
        "        self.conv1_1 = nn.Conv2d(3, 16, 5, stride=1, padding=2)   # 32\n",
        "        self.conv1_2 = nn.Conv2d(16, 16, 3, stride=1, padding=1)  # 32\n",
        "        self.conv1_3 = nn.Conv2d(16, 16, 3, stride=1, padding=1)  # 32\n",
        "        self.maxPool1 = nn.MaxPool2d(2, stride=2, padding=0)      # 16\n",
        "        self.fc1 = nn.Linear(4096, 2000)\n",
        "        self.fc2 = nn.Linear(2000, 10)\n",
        "\n",
        "    def forward(self, x):\n",
        "      x = F.relu(self.conv1_1(x))\n",
        "      x = F.relu(self.conv1_2(x))\n",
        "      x = F.relu(self.conv1_3(x))\n",
        "      x = self.maxPool1(x)\n",
        "\n",
        "      N, C, H, W = x.shape\n",
        "      x = x.reshape(N, C*H*W)\n",
        "      x = F.relu(self.fc1(x))\n",
        "      x = F.softmax(self.fc2(x))\n",
        "      return x"
      ],
      "execution_count": null,
      "outputs": []
    },
    {
      "cell_type": "code",
      "metadata": {
        "id": "xyJ9SbLlPNz4"
      },
      "source": [
        "import torch.nn as nn\n",
        "import torch.nn.functional as F\n",
        "\n",
        "class CNN8_D(nn.Module):\n",
        "    def __init__(self):\n",
        "        super().__init__()\n",
        "        torch.manual_seed(501)\n",
        "        random.seed(501)\n",
        "        np.random.seed(501)\n",
        "        \n",
        "        self.conv1_1 = nn.Conv2d(3, 16, 5, stride=1, padding=2)   # 32\n",
        "        self.conv1_2 = nn.Conv2d(16, 16, 3, stride=1, padding=1)  # 32\n",
        "        self.conv1_3 = nn.Conv2d(16, 16, 3, stride=1, padding=1)  # 32\n",
        "        self.maxPool1 = nn.MaxPool2d(2, stride=2, padding=0)      # 16\n",
        "        self.fc1 = nn.Linear(4096, 2000)\n",
        "        self.fc2 = nn.Linear(2000, 10)\n",
        "\n",
        "    def forward(self, x):\n",
        "      x = F.relu(self.conv1_1(x))\n",
        "      x = F.relu(self.conv1_2(x))\n",
        "      x = F.relu(self.conv1_3(x))\n",
        "      x = self.maxPool1(x)\n",
        "\n",
        "      N, C, H, W = x.shape\n",
        "      x = x.reshape(N, C*H*W)\n",
        "      x = F.relu(self.fc1(x))\n",
        "      x = F.dropout(x, 0.5)\n",
        "      x = self.fc2(x)\n",
        "      return x"
      ],
      "execution_count": null,
      "outputs": []
    },
    {
      "cell_type": "code",
      "metadata": {
        "id": "SfyJPLlnuf6u"
      },
      "source": [
        "import torch.nn as nn\n",
        "import torch.nn.functional as F\n",
        "\n",
        "class CNN9(nn.Module):\n",
        "    def __init__(self):\n",
        "        super().__init__()\n",
        "        torch.manual_seed(501)\n",
        "        random.seed(501)\n",
        "        np.random.seed(501)\n",
        "        \n",
        "        self.conv1_1 = nn.Conv2d(3, 32, 3, stride=1, padding=1)     # 32\n",
        "        self.conv1_2 = nn.Conv2d(32, 32, 3, stride=1, padding=1)    # 32\n",
        "        self.maxPool1 = nn.MaxPool2d(2, stride=2, padding=0)        # 16\n",
        "        self.conv2_1 = nn.Conv2d(32, 64, 3, stride=1, padding=1)    # 16\n",
        "        self.conv2_2 = nn.Conv2d(64, 64, 3, stride=1, padding=1)    # 16\n",
        "        self.maxPool2 = nn.MaxPool2d(2, stride=2, padding=0)        # 8\n",
        "        self.conv3_1 = nn.Conv2d(64, 128, 3, stride=1, padding=1)   # 8\n",
        "        self.conv3_2 = nn.Conv2d(128, 128, 3, stride=1, padding=1)  # 8\n",
        "        self.maxPool3 = nn.MaxPool2d(2, stride=2, padding=0)        # 4\n",
        "        self.fc1 = nn.Linear(2048, 128)\n",
        "        self.fc2 = nn.Linear(128, 10)\n",
        "\n",
        "    def forward(self, x):\n",
        "      x = F.relu(self.conv1_1(x))\n",
        "      x = F.relu(self.conv1_2(x))\n",
        "      x = self.maxPool1(x)\n",
        "      x = F.relu(self.conv2_1(x))\n",
        "      x = F.relu(self.conv2_2(x))\n",
        "      x = self.maxPool2(x)\n",
        "      x = F.relu(self.conv3_1(x))\n",
        "      x = F.relu(self.conv3_2(x))\n",
        "      x = self.maxPool3(x)\n",
        "\n",
        "      N, C, H, W = x.shape\n",
        "      x = x.reshape(N, C*H*W)\n",
        "      x = F.relu(self.fc1(x))\n",
        "      x = self.fc2(x)\n",
        "      return x"
      ],
      "execution_count": null,
      "outputs": []
    },
    {
      "cell_type": "code",
      "metadata": {
        "id": "MYQI_LOt0325"
      },
      "source": [
        "import torch.nn as nn\n",
        "import torch.nn.functional as F\n",
        "\n",
        "class CNN9_BN1(nn.Module):\n",
        "    def __init__(self):\n",
        "        super().__init__()\n",
        "        torch.manual_seed(501)\n",
        "        random.seed(501)\n",
        "        np.random.seed(501)\n",
        "        \n",
        "        self.conv1_1 = nn.Conv2d(3, 32, 3, stride=1, padding=1)     # 32\n",
        "        self.conv1_2 = nn.Conv2d(32, 32, 3, stride=1, padding=1)    # 32\n",
        "        self.batchNorm1 = nn.BatchNorm2d(32)\n",
        "        self.maxPool1 = nn.MaxPool2d(2, stride=2, padding=0)        # 16\n",
        "        self.conv2_1 = nn.Conv2d(32, 64, 3, stride=1, padding=1)    # 16\n",
        "        self.conv2_2 = nn.Conv2d(64, 64, 3, stride=1, padding=1)    # 16\n",
        "        self.batchNorm2 = nn.BatchNorm2d(64)\n",
        "        self.maxPool2 = nn.MaxPool2d(2, stride=2, padding=0)        # 8\n",
        "        self.conv3_1 = nn.Conv2d(64, 128, 3, stride=1, padding=1)   # 8\n",
        "        self.conv3_2 = nn.Conv2d(128, 128, 3, stride=1, padding=1)  # 8\n",
        "        self.batchNorm3 = nn.BatchNorm2d(128)\n",
        "        self.maxPool3 = nn.MaxPool2d(2, stride=2, padding=0)        # 4\n",
        "        self.fc1 = nn.Linear(2048, 128)\n",
        "        self.fc2 = nn.Linear(128, 10)\n",
        "\n",
        "    def forward(self, x):\n",
        "      x = F.relu(self.conv1_1(x))\n",
        "      x = F.relu(self.conv1_2(x))\n",
        "      x = self.batchNorm1(x)\n",
        "      x = self.maxPool1(x)\n",
        "      x = F.relu(self.conv2_1(x))\n",
        "      x = F.relu(self.conv2_2(x))\n",
        "      x = self.batchNorm2(x)\n",
        "      x = self.maxPool2(x)\n",
        "      x = F.relu(self.conv3_1(x))\n",
        "      x = F.relu(self.conv3_2(x))\n",
        "      x = self.batchNorm3(x)\n",
        "      x = self.maxPool3(x)\n",
        "\n",
        "      N, C, H, W = x.shape\n",
        "      x = x.reshape(N, C*H*W)\n",
        "      x = F.relu(self.fc1(x))\n",
        "      x = self.fc2(x)\n",
        "      return x"
      ],
      "execution_count": null,
      "outputs": []
    },
    {
      "cell_type": "code",
      "metadata": {
        "id": "rCZq-_nkyKRc"
      },
      "source": [
        "import torch.nn as nn\n",
        "import torch.nn.functional as F\n",
        "\n",
        "class CNN9_BN2(nn.Module):\n",
        "    def __init__(self):\n",
        "        super().__init__()\n",
        "        torch.manual_seed(501)\n",
        "        random.seed(501)\n",
        "        np.random.seed(501)\n",
        "        \n",
        "        self.conv1_1 = nn.Conv2d(3, 32, 3, stride=1, padding=1)     # 32\n",
        "        self.batchNorm1_1 = nn.BatchNorm2d(32)\n",
        "        self.conv1_2 = nn.Conv2d(32, 32, 3, stride=1, padding=1)    # 32\n",
        "        self.batchNorm1_2 = nn.BatchNorm2d(32)\n",
        "        self.maxPool1 = nn.MaxPool2d(2, stride=2, padding=0)        # 16\n",
        "        self.conv2_1 = nn.Conv2d(32, 64, 3, stride=1, padding=1)    # 16\n",
        "        self.batchNorm2_1 = nn.BatchNorm2d(64)\n",
        "        self.conv2_2 = nn.Conv2d(64, 64, 3, stride=1, padding=1)    # 16\n",
        "        self.batchNorm2_2 = nn.BatchNorm2d(64)\n",
        "        self.maxPool2 = nn.MaxPool2d(2, stride=2, padding=0)        # 8\n",
        "        self.conv3_1 = nn.Conv2d(64, 128, 3, stride=1, padding=1)   # 8\n",
        "        self.batchNorm3_1 = nn.BatchNorm2d(128)\n",
        "        self.conv3_2 = nn.Conv2d(128, 128, 3, stride=1, padding=1)  # 8\n",
        "        self.batchNorm3_2 = nn.BatchNorm2d(128)\n",
        "        self.maxPool3 = nn.MaxPool2d(2, stride=2, padding=0)        # 4\n",
        "        self.fc1 = nn.Linear(2048, 128)\n",
        "        self.fc2 = nn.Linear(128, 10)\n",
        "\n",
        "    def forward(self, x):\n",
        "      x = F.relu(self.conv1_1(x))\n",
        "      x = self.batchNorm1_1(x)\n",
        "      x = F.relu(self.conv1_2(x))\n",
        "      x = self.batchNorm1_2(x)\n",
        "      x = self.maxPool1(x)\n",
        "      x = F.relu(self.conv2_1(x))\n",
        "      x = self.batchNorm2_1(x)\n",
        "      x = F.relu(self.conv2_2(x))\n",
        "      x = self.batchNorm2_2(x)\n",
        "      x = self.maxPool2(x)\n",
        "      x = F.relu(self.conv3_1(x))\n",
        "      x = self.batchNorm3_1(x)\n",
        "      x = F.relu(self.conv3_2(x))\n",
        "      x = self.batchNorm3_2(x)\n",
        "      x = self.maxPool3(x)\n",
        "\n",
        "      N, C, H, W = x.shape\n",
        "      x = x.reshape(N, C*H*W)\n",
        "      x = F.relu(self.fc1(x))\n",
        "      x = self.fc2(x)\n",
        "      return x"
      ],
      "execution_count": null,
      "outputs": []
    },
    {
      "cell_type": "code",
      "metadata": {
        "id": "9c1HwX6U-fse"
      },
      "source": [
        "import torch.nn as nn\n",
        "import torch.nn.functional as F\n",
        "\n",
        "class CNN10(nn.Module):\n",
        "    def __init__(self):\n",
        "        super().__init__()\n",
        "        torch.manual_seed(501)\n",
        "        random.seed(501)\n",
        "        np.random.seed(501)\n",
        "        \n",
        "        self.conv1_1 = nn.Conv2d(3, 32, 3, stride=1, padding=1)     # 32\n",
        "        self.conv1_2 = nn.Conv2d(32, 32, 3, stride=1, padding=1)    # 32\n",
        "        self.conv1_3 = nn.Conv2d(32, 32, 3, stride=1, padding=1)    # 32\n",
        "        self.maxPool1 = nn.MaxPool2d(2, stride=2, padding=0)        # 16\n",
        "        self.conv2_1 = nn.Conv2d(32, 64, 3, stride=1, padding=1)    # 16\n",
        "        self.conv2_2 = nn.Conv2d(64, 64, 3, stride=1, padding=1)    # 16\n",
        "        self.conv2_3 = nn.Conv2d(64, 64, 3, stride=1, padding=1)    # 16\n",
        "        self.maxPool2 = nn.MaxPool2d(2, stride=2, padding=0)        # 8\n",
        "        self.conv3_1 = nn.Conv2d(64, 128, 3, stride=1, padding=1)   # 8\n",
        "        self.conv3_2 = nn.Conv2d(128, 128, 3, stride=1, padding=1)  # 8\n",
        "        self.conv3_3 = nn.Conv2d(128, 128, 3, stride=1, padding=1)  # 8\n",
        "        self.maxPool3 = nn.MaxPool2d(2, stride=2, padding=0)        # 4\n",
        "        self.fc1 = nn.Linear(2048, 128)\n",
        "        self.fc2 = nn.Linear(128, 10)\n",
        "\n",
        "    def forward(self, x):\n",
        "      x = F.relu(self.conv1_1(x))\n",
        "      x = F.relu(self.conv1_2(x))\n",
        "      x = F.relu(self.conv1_3(x))\n",
        "      x = self.maxPool1(x)\n",
        "      x = F.relu(self.conv2_1(x))\n",
        "      x = F.relu(self.conv2_2(x))\n",
        "      x = F.relu(self.conv2_3(x))\n",
        "      x = self.maxPool2(x)\n",
        "      x = F.relu(self.conv3_1(x))\n",
        "      x = F.relu(self.conv3_2(x))\n",
        "      x = F.relu(self.conv3_3(x))\n",
        "      x = self.maxPool3(x)\n",
        "\n",
        "      N, C, H, W = x.shape\n",
        "      x = x.reshape(N, C*H*W)\n",
        "      x = F.relu(self.fc1(x))\n",
        "      x = self.fc2(x)\n",
        "      return x"
      ],
      "execution_count": null,
      "outputs": []
    },
    {
      "cell_type": "code",
      "metadata": {
        "id": "-2YD0Wp5A1FG"
      },
      "source": [
        "import torch.nn as nn\n",
        "import torch.nn.functional as F\n",
        "\n",
        "class CNN10_BN1(nn.Module):\n",
        "    def __init__(self):\n",
        "        super().__init__()\n",
        "        torch.manual_seed(501)\n",
        "        random.seed(501)\n",
        "        np.random.seed(501)\n",
        "        \n",
        "        self.conv1_1 = nn.Conv2d(3, 32, 3, stride=1, padding=1)     # 32\n",
        "        self.conv1_2 = nn.Conv2d(32, 32, 3, stride=1, padding=1)    # 32\n",
        "        self.conv1_3 = nn.Conv2d(32, 32, 3, stride=1, padding=1)    # 32\n",
        "        self.batchNorm1 = nn.BatchNorm2d(32)\n",
        "        self.maxPool1 = nn.MaxPool2d(2, stride=2, padding=0)        # 16\n",
        "        self.conv2_1 = nn.Conv2d(32, 64, 3, stride=1, padding=1)    # 16\n",
        "        self.conv2_2 = nn.Conv2d(64, 64, 3, stride=1, padding=1)    # 16\n",
        "        self.conv2_3 = nn.Conv2d(64, 64, 3, stride=1, padding=1)    # 16\n",
        "        self.batchNorm2 = nn.BatchNorm2d(64)\n",
        "        self.maxPool2 = nn.MaxPool2d(2, stride=2, padding=0)        # 8\n",
        "        self.conv3_1 = nn.Conv2d(64, 128, 3, stride=1, padding=1)   # 8\n",
        "        self.conv3_2 = nn.Conv2d(128, 128, 3, stride=1, padding=1)  # 8\n",
        "        self.conv3_3 = nn.Conv2d(128, 128, 3, stride=1, padding=1)  # 8\n",
        "        self.batchNorm3 = nn.BatchNorm2d(128)\n",
        "        self.maxPool3 = nn.MaxPool2d(2, stride=2, padding=0)        # 4\n",
        "        self.fc1 = nn.Linear(2048, 128)\n",
        "        self.fc2 = nn.Linear(128, 10)\n",
        "\n",
        "    def forward(self, x):\n",
        "      x = F.relu(self.conv1_1(x))\n",
        "      x = F.relu(self.conv1_2(x))\n",
        "      x = F.relu(self.conv1_3(x))\n",
        "      x = self.batchNorm1(x)\n",
        "      x = self.maxPool1(x)\n",
        "      x = F.relu(self.conv2_1(x))\n",
        "      x = F.relu(self.conv2_2(x))\n",
        "      x = F.relu(self.conv2_3(x))\n",
        "      x = self.batchNorm2(x)\n",
        "      x = self.maxPool2(x)\n",
        "      x = F.relu(self.conv3_1(x))\n",
        "      x = F.relu(self.conv3_2(x))\n",
        "      x = F.relu(self.conv3_3(x))\n",
        "      x = self.batchNorm3(x)\n",
        "      x = self.maxPool3(x)\n",
        "\n",
        "      N, C, H, W = x.shape\n",
        "      x = x.reshape(N, C*H*W)\n",
        "      x = F.relu(self.fc1(x))\n",
        "      x = self.fc2(x)\n",
        "      return x"
      ],
      "execution_count": null,
      "outputs": []
    },
    {
      "cell_type": "code",
      "metadata": {
        "id": "_UEtkZLcMGdz"
      },
      "source": [
        "import torch.nn as nn\n",
        "import torch.nn.functional as F\n",
        "\n",
        "class CNN10_BN1_D(nn.Module):\n",
        "    def __init__(self):\n",
        "        super().__init__()\n",
        "        torch.manual_seed(501)\n",
        "        random.seed(501)\n",
        "        np.random.seed(501)\n",
        "        \n",
        "        self.conv1_1 = nn.Conv2d(3, 32, 3, stride=1, padding=1)     # 32\n",
        "        self.conv1_2 = nn.Conv2d(32, 32, 3, stride=1, padding=1)    # 32\n",
        "        self.conv1_3 = nn.Conv2d(32, 32, 3, stride=1, padding=1)    # 32\n",
        "        self.batchNorm1 = nn.BatchNorm2d(32)\n",
        "        self.maxPool1 = nn.MaxPool2d(2, stride=2, padding=0)        # 16\n",
        "        self.conv2_1 = nn.Conv2d(32, 64, 3, stride=1, padding=1)    # 16\n",
        "        self.conv2_2 = nn.Conv2d(64, 64, 3, stride=1, padding=1)    # 16\n",
        "        self.conv2_3 = nn.Conv2d(64, 64, 3, stride=1, padding=1)    # 16\n",
        "        self.batchNorm2 = nn.BatchNorm2d(64)\n",
        "        self.maxPool2 = nn.MaxPool2d(2, stride=2, padding=0)        # 8\n",
        "        self.conv3_1 = nn.Conv2d(64, 128, 3, stride=1, padding=1)   # 8\n",
        "        self.conv3_2 = nn.Conv2d(128, 128, 3, stride=1, padding=1)  # 8\n",
        "        self.conv3_3 = nn.Conv2d(128, 128, 3, stride=1, padding=1)  # 8\n",
        "        self.batchNorm3 = nn.BatchNorm2d(128)\n",
        "        self.maxPool3 = nn.MaxPool2d(2, stride=2, padding=0)        # 4\n",
        "        self.fc1 = nn.Linear(2048, 128)\n",
        "        self.fc2 = nn.Linear(128, 10)\n",
        "\n",
        "    def forward(self, x):\n",
        "      x = F.relu(self.conv1_1(x))\n",
        "      x = F.relu(self.conv1_2(x))\n",
        "      x = F.relu(self.conv1_3(x))\n",
        "      x = self.batchNorm1(x)\n",
        "      x = self.maxPool1(x)\n",
        "      x = F.relu(self.conv2_1(x))\n",
        "      x = F.relu(self.conv2_2(x))\n",
        "      x = F.relu(self.conv2_3(x))\n",
        "      x = self.batchNorm2(x)\n",
        "      x = self.maxPool2(x)\n",
        "      x = F.relu(self.conv3_1(x))\n",
        "      x = F.relu(self.conv3_2(x))\n",
        "      x = F.relu(self.conv3_3(x))\n",
        "      x = self.batchNorm3(x)\n",
        "      x = self.maxPool3(x)\n",
        "\n",
        "      N, C, H, W = x.shape\n",
        "      x = x.reshape(N, C*H*W)\n",
        "      x = F.relu(self.fc1(x))\n",
        "      x = F.dropout(x, 0.5)\n",
        "      x = self.fc2(x)\n",
        "      return x"
      ],
      "execution_count": null,
      "outputs": []
    },
    {
      "cell_type": "code",
      "metadata": {
        "id": "eZnMZbcJFZud"
      },
      "source": [
        "import torch.nn as nn\n",
        "import torch.nn.functional as F\n",
        "\n",
        "class CNN10_BN2(nn.Module):\n",
        "    def __init__(self):\n",
        "        super().__init__()\n",
        "        torch.manual_seed(501)\n",
        "        random.seed(501)\n",
        "        np.random.seed(501)\n",
        "        \n",
        "        self.conv1_1 = nn.Conv2d(3, 32, 3, stride=1, padding=1)     # 32\n",
        "        self.batchNorm1_1 = nn.BatchNorm2d(32)\n",
        "        self.conv1_2 = nn.Conv2d(32, 32, 3, stride=1, padding=1)    # 32\n",
        "        self.batchNorm1_2 = nn.BatchNorm2d(32)\n",
        "        self.conv1_3 = nn.Conv2d(32, 32, 3, stride=1, padding=1)    # 32\n",
        "        self.batchNorm1_3 = nn.BatchNorm2d(32)\n",
        "        self.maxPool1 = nn.MaxPool2d(2, stride=2, padding=0)        # 16\n",
        "        self.conv2_1 = nn.Conv2d(32, 64, 3, stride=1, padding=1)    # 16\n",
        "        self.batchNorm2_1 = nn.BatchNorm2d(64)\n",
        "        self.conv2_2 = nn.Conv2d(64, 64, 3, stride=1, padding=1)    # 16\n",
        "        self.batchNorm2_2 = nn.BatchNorm2d(64)\n",
        "        self.conv2_3 = nn.Conv2d(64, 64, 3, stride=1, padding=1)    # 16\n",
        "        self.batchNorm2_3 = nn.BatchNorm2d(64)\n",
        "        self.maxPool2 = nn.MaxPool2d(2, stride=2, padding=0)        # 8\n",
        "        self.conv3_1 = nn.Conv2d(64, 128, 3, stride=1, padding=1)   # 8\n",
        "        self.batchNorm3_1 = nn.BatchNorm2d(128)\n",
        "        self.conv3_2 = nn.Conv2d(128, 128, 3, stride=1, padding=1)  # 8\n",
        "        self.batchNorm3_2 = nn.BatchNorm2d(128)\n",
        "        self.conv3_3 = nn.Conv2d(128, 128, 3, stride=1, padding=1)  # 8\n",
        "        self.batchNorm3_3 = nn.BatchNorm2d(128)\n",
        "        self.maxPool3 = nn.MaxPool2d(2, stride=2, padding=0)        # 4\n",
        "        self.fc1 = nn.Linear(2048, 128)\n",
        "        self.fc2 = nn.Linear(128, 10)\n",
        "\n",
        "    def forward(self, x):\n",
        "      x = F.relu(self.conv1_1(x))\n",
        "      x = self.batchNorm1_1(x)\n",
        "      x = F.relu(self.conv1_2(x))\n",
        "      x = self.batchNorm1_2(x)\n",
        "      x = F.relu(self.conv1_3(x))\n",
        "      x = self.batchNorm1_3(x)\n",
        "      x = self.maxPool1(x)\n",
        "      x = F.relu(self.conv2_1(x))\n",
        "      x = self.batchNorm2_1(x)\n",
        "      x = F.relu(self.conv2_2(x))\n",
        "      x = self.batchNorm2_2(x)\n",
        "      x = F.relu(self.conv2_3(x))\n",
        "      x = self.batchNorm2_3(x)\n",
        "      x = self.maxPool2(x)\n",
        "      x = F.relu(self.conv3_1(x))\n",
        "      x = self.batchNorm3_1(x)\n",
        "      x = F.relu(self.conv3_2(x))\n",
        "      x = self.batchNorm3_2(x)\n",
        "      x = F.relu(self.conv3_3(x))\n",
        "      x = self.batchNorm3_2(x)\n",
        "      x = self.maxPool3(x)\n",
        "\n",
        "      N, C, H, W = x.shape\n",
        "      x = x.reshape(N, C*H*W)\n",
        "      x = F.relu(self.fc1(x))\n",
        "      x = self.fc2(x)\n",
        "      return x"
      ],
      "execution_count": null,
      "outputs": []
    },
    {
      "cell_type": "code",
      "metadata": {
        "id": "AOK0pd-xHOOv"
      },
      "source": [
        "import torch.nn as nn\n",
        "import torch.nn.functional as F\n",
        "\n",
        "class CNN11_BN(nn.Module):\n",
        "    def __init__(self):\n",
        "        super().__init__()\n",
        "        torch.manual_seed(501)\n",
        "        random.seed(501)\n",
        "        np.random.seed(501)\n",
        "        \n",
        "        self.conv1_1 = nn.Conv2d(3, 16, 3, stride=1, padding=1)     # 32\n",
        "        self.conv1_2 = nn.Conv2d(16, 16, 3, stride=1, padding=1)    # 32\n",
        "        self.conv1_3 = nn.Conv2d(16, 16, 3, stride=1, padding=1)    # 32\n",
        "        self.batchNorm1 = nn.BatchNorm2d(16)\n",
        "        self.maxPool1 = nn.MaxPool2d(2, stride=2, padding=0)        # 16\n",
        "        self.conv2_1 = nn.Conv2d(16, 32, 3, stride=1, padding=1)    # 16\n",
        "        self.conv2_2 = nn.Conv2d(32, 32, 3, stride=1, padding=1)    # 16\n",
        "        self.conv2_3 = nn.Conv2d(32, 32, 3, stride=1, padding=1)    # 16\n",
        "        self.batchNorm2 = nn.BatchNorm2d(32)\n",
        "        self.maxPool2 = nn.MaxPool2d(2, stride=2, padding=0)        # 8\n",
        "        self.conv3_1 = nn.Conv2d(32, 64, 3, stride=1, padding=1)    # 8\n",
        "        self.conv3_2 = nn.Conv2d(64, 64, 3, stride=1, padding=1)    # 8\n",
        "        self.conv3_3 = nn.Conv2d(64, 64, 3, stride=1, padding=1)    # 8\n",
        "        self.batchNorm3 = nn.BatchNorm2d(64)\n",
        "        self.maxPool3 = nn.MaxPool2d(2, stride=2, padding=0)        # 4\n",
        "        self.fc1 = nn.Linear(1024, 128)\n",
        "        self.fc2 = nn.Linear(128, 10)\n",
        "\n",
        "    def forward(self, x):\n",
        "      x = F.relu(self.conv1_1(x))\n",
        "      x = F.relu(self.conv1_2(x))\n",
        "      x = F.relu(self.conv1_3(x))\n",
        "      x = self.batchNorm1(x)\n",
        "      x = self.maxPool1(x)\n",
        "      x = F.relu(self.conv2_1(x))\n",
        "      x = F.relu(self.conv2_2(x))\n",
        "      x = F.relu(self.conv2_3(x))\n",
        "      x = self.batchNorm2(x)\n",
        "      x = self.maxPool2(x)\n",
        "      x = F.relu(self.conv3_1(x))\n",
        "      x = F.relu(self.conv3_2(x))\n",
        "      x = F.relu(self.conv3_3(x))\n",
        "      x = self.batchNorm3(x)\n",
        "      x = self.maxPool3(x)\n",
        "\n",
        "      N, C, H, W = x.shape\n",
        "      x = x.reshape(N, C*H*W)\n",
        "      x = F.relu(self.fc1(x))\n",
        "      x = self.fc2(x)\n",
        "      return x"
      ],
      "execution_count": null,
      "outputs": []
    },
    {
      "cell_type": "code",
      "metadata": {
        "id": "cffagHmgIXMF"
      },
      "source": [
        "import torch.nn as nn\n",
        "import torch.nn.functional as F\n",
        "\n",
        "class CNN12_BN(nn.Module):\n",
        "    def __init__(self):\n",
        "        super().__init__()\n",
        "        torch.manual_seed(501)\n",
        "        random.seed(501)\n",
        "        np.random.seed(501)\n",
        "        \n",
        "        self.conv1_1 = nn.Conv2d(3, 16, 3, stride=1, padding=1)     # 32\n",
        "        self.conv1_2 = nn.Conv2d(16, 16, 3, stride=1, padding=1)    # 32\n",
        "        self.conv1_3 = nn.Conv2d(16, 16, 3, stride=1, padding=1)    # 32\n",
        "        self.batchNorm1 = nn.BatchNorm2d(16)\n",
        "        self.maxPool1 = nn.MaxPool2d(2, stride=2, padding=0)        # 16\n",
        "        self.conv2_1 = nn.Conv2d(16, 32, 3, stride=1, padding=1)    # 16\n",
        "        self.conv2_2 = nn.Conv2d(32, 32, 3, stride=1, padding=1)    # 16\n",
        "        self.conv2_3 = nn.Conv2d(32, 32, 3, stride=1, padding=1)    # 16\n",
        "        self.batchNorm2 = nn.BatchNorm2d(32)\n",
        "        self.maxPool2 = nn.MaxPool2d(2, stride=2, padding=0)        # 8\n",
        "        self.conv3_1 = nn.Conv2d(32, 64, 3, stride=1, padding=1)    # 8\n",
        "        self.conv3_2 = nn.Conv2d(64, 64, 3, stride=1, padding=1)    # 8\n",
        "        self.conv3_3 = nn.Conv2d(64, 64, 3, stride=1, padding=1)    # 8\n",
        "        self.batchNorm3 = nn.BatchNorm2d(64)\n",
        "        self.maxPool3 = nn.MaxPool2d(2, stride=2, padding=0)        # 4\n",
        "        self.conv4_1 = nn.Conv2d(64, 128, 3, stride=1, padding=1)   # 4\n",
        "        self.conv4_2 = nn.Conv2d(128, 128, 3, stride=1, padding=1)  # 4\n",
        "        self.conv4_3 = nn.Conv2d(128, 128, 3, stride=1, padding=1)  # 4\n",
        "        self.batchNorm4 = nn.BatchNorm2d(128)\n",
        "        self.maxPool4 = nn.MaxPool2d(2, stride=2, padding=0)        # 2\n",
        "        self.fc1 = nn.Linear(512, 128)\n",
        "        self.fc2 = nn.Linear(128, 10)\n",
        "\n",
        "    def forward(self, x):\n",
        "      x = F.relu(self.conv1_1(x))\n",
        "      x = F.relu(self.conv1_2(x))\n",
        "      x = F.relu(self.conv1_3(x))\n",
        "      x = self.batchNorm1(x)\n",
        "      x = self.maxPool1(x)\n",
        "      x = F.relu(self.conv2_1(x))\n",
        "      x = F.relu(self.conv2_2(x))\n",
        "      x = F.relu(self.conv2_3(x))\n",
        "      x = self.batchNorm2(x)\n",
        "      x = self.maxPool2(x)\n",
        "      x = F.relu(self.conv3_1(x))\n",
        "      x = F.relu(self.conv3_2(x))\n",
        "      x = F.relu(self.conv3_3(x))\n",
        "      x = self.batchNorm3(x)\n",
        "      x = self.maxPool3(x)\n",
        "      x = F.relu(self.conv4_1(x))\n",
        "      x = F.relu(self.conv4_2(x))\n",
        "      x = F.relu(self.conv4_3(x))\n",
        "      x = self.batchNorm4(x)\n",
        "      x = self.maxPool4(x)\n",
        "\n",
        "      N, C, H, W = x.shape\n",
        "      x = x.reshape(N, C*H*W)\n",
        "      x = F.relu(self.fc1(x))\n",
        "      x = self.fc2(x)\n",
        "      return x"
      ],
      "execution_count": null,
      "outputs": []
    },
    {
      "cell_type": "code",
      "metadata": {
        "id": "_Hq2XwjrJzOV"
      },
      "source": [
        "import torch.nn as nn\n",
        "import torch.nn.functional as F\n",
        "\n",
        "class CNN13_BN(nn.Module):\n",
        "    def __init__(self):\n",
        "        super().__init__()\n",
        "        torch.manual_seed(501)\n",
        "        random.seed(501)\n",
        "        np.random.seed(501)\n",
        "        \n",
        "        self.conv1_1 = nn.Conv2d(3, 16, 3, stride=1, padding=1)     # 32\n",
        "        self.conv1_2 = nn.Conv2d(16, 16, 3, stride=1, padding=1)    # 32\n",
        "        self.conv1_3 = nn.Conv2d(16, 16, 3, stride=1, padding=1)    # 32\n",
        "        self.batchNorm1 = nn.BatchNorm2d(16)\n",
        "        self.maxPool1 = nn.MaxPool2d(2, stride=2, padding=0)        # 16\n",
        "        self.conv2_1 = nn.Conv2d(16, 32, 3, stride=1, padding=1)    # 16\n",
        "        self.conv2_2 = nn.Conv2d(32, 32, 3, stride=1, padding=1)    # 16\n",
        "        self.conv2_3 = nn.Conv2d(32, 32, 3, stride=1, padding=1)    # 16\n",
        "        self.batchNorm2 = nn.BatchNorm2d(32)\n",
        "        self.maxPool2 = nn.MaxPool2d(2, stride=2, padding=0)        # 8\n",
        "        self.conv3_1 = nn.Conv2d(32, 64, 3, stride=1, padding=1)    # 8\n",
        "        self.conv3_2 = nn.Conv2d(64, 64, 3, stride=1, padding=1)    # 8\n",
        "        self.conv3_3 = nn.Conv2d(64, 64, 3, stride=1, padding=1)    # 8\n",
        "        self.batchNorm3 = nn.BatchNorm2d(64)\n",
        "        self.maxPool3 = nn.MaxPool2d(2, stride=2, padding=0)        # 4\n",
        "        self.conv4_1 = nn.Conv2d(64, 128, 3, stride=1, padding=1)   # 4\n",
        "        self.conv4_2 = nn.Conv2d(128, 128, 3, stride=1, padding=1)  # 4\n",
        "        self.conv4_3 = nn.Conv2d(128, 128, 3, stride=1, padding=1)  # 4\n",
        "        self.batchNorm4 = nn.BatchNorm2d(128)\n",
        "        self.fc1 = nn.Linear(2048, 128)\n",
        "        self.fc2 = nn.Linear(128, 10)\n",
        "\n",
        "    def forward(self, x):\n",
        "      x = F.relu(self.conv1_1(x))\n",
        "      x = F.relu(self.conv1_2(x))\n",
        "      x = F.relu(self.conv1_3(x))\n",
        "      x = self.batchNorm1(x)\n",
        "      x = self.maxPool1(x)\n",
        "      x = F.relu(self.conv2_1(x))\n",
        "      x = F.relu(self.conv2_2(x))\n",
        "      x = F.relu(self.conv2_3(x))\n",
        "      x = self.batchNorm2(x)\n",
        "      x = self.maxPool2(x)\n",
        "      x = F.relu(self.conv3_1(x))\n",
        "      x = F.relu(self.conv3_2(x))\n",
        "      x = F.relu(self.conv3_3(x))\n",
        "      x = self.batchNorm3(x)\n",
        "      x = self.maxPool3(x)\n",
        "      x = F.relu(self.conv4_1(x))\n",
        "      x = F.relu(self.conv4_2(x))\n",
        "      x = F.relu(self.conv4_3(x))\n",
        "      x = self.batchNorm4(x)\n",
        "\n",
        "      N, C, H, W = x.shape\n",
        "      x = x.reshape(N, C*H*W)\n",
        "      x = F.relu(self.fc1(x))\n",
        "      x = self.fc2(x)\n",
        "      return x"
      ],
      "execution_count": null,
      "outputs": []
    },
    {
      "cell_type": "code",
      "metadata": {
        "id": "mI9HaPJEK2KB"
      },
      "source": [
        "import torch.nn as nn\n",
        "import torch.nn.functional as F\n",
        "\n",
        "class CNN14_BN(nn.Module):\n",
        "    def __init__(self):\n",
        "        super().__init__()\n",
        "        torch.manual_seed(501)\n",
        "        random.seed(501)\n",
        "        np.random.seed(501)\n",
        "        \n",
        "        self.conv1_1 = nn.Conv2d(3, 16, 3, stride=1, padding=1)     # 32\n",
        "        self.conv1_2 = nn.Conv2d(16, 16, 3, stride=1, padding=1)    # 32\n",
        "        self.batchNorm1 = nn.BatchNorm2d(16)\n",
        "        self.maxPool1 = nn.MaxPool2d(2, stride=2, padding=0)        # 16\n",
        "        self.conv2_1 = nn.Conv2d(16, 32, 3, stride=1, padding=1)    # 16\n",
        "        self.conv2_2 = nn.Conv2d(32, 32, 3, stride=1, padding=1)    # 16\n",
        "        self.batchNorm2 = nn.BatchNorm2d(32)\n",
        "        self.maxPool2 = nn.MaxPool2d(2, stride=2, padding=0)        # 8\n",
        "        self.conv3_1 = nn.Conv2d(32, 64, 3, stride=1, padding=1)    # 8\n",
        "        self.conv3_2 = nn.Conv2d(64, 64, 3, stride=1, padding=1)    # 8\n",
        "        self.batchNorm3 = nn.BatchNorm2d(64)\n",
        "        self.maxPool3 = nn.MaxPool2d(2, stride=2, padding=0)        # 4\n",
        "        self.conv4_1 = nn.Conv2d(64, 128, 3, stride=1, padding=1)   # 4\n",
        "        self.conv4_2 = nn.Conv2d(128, 128, 3, stride=1, padding=1)  # 4\n",
        "        self.batchNorm4 = nn.BatchNorm2d(128)\n",
        "        self.maxPool4 = nn.MaxPool2d(2, stride=2, padding=0)        # 2\n",
        "        self.fc1 = nn.Linear(512, 128)\n",
        "        self.fc2 = nn.Linear(128, 10)\n",
        "\n",
        "    def forward(self, x):\n",
        "      x = F.relu(self.conv1_1(x))\n",
        "      x = F.relu(self.conv1_2(x))\n",
        "      x = self.batchNorm1(x)\n",
        "      x = self.maxPool1(x)\n",
        "      x = F.relu(self.conv2_1(x))\n",
        "      x = F.relu(self.conv2_2(x))\n",
        "      x = self.batchNorm2(x)\n",
        "      x = self.maxPool2(x)\n",
        "      x = F.relu(self.conv3_1(x))\n",
        "      x = F.relu(self.conv3_2(x))\n",
        "      x = self.batchNorm3(x)\n",
        "      x = self.maxPool3(x)\n",
        "      x = F.relu(self.conv4_1(x))\n",
        "      x = F.relu(self.conv4_2(x))\n",
        "      x = self.batchNorm4(x)\n",
        "      x = self.maxPool4(x)\n",
        "\n",
        "      N, C, H, W = x.shape\n",
        "      x = x.reshape(N, C*H*W)\n",
        "      x = F.relu(self.fc1(x))\n",
        "      x = self.fc2(x)\n",
        "      return x"
      ],
      "execution_count": null,
      "outputs": []
    },
    {
      "cell_type": "markdown",
      "metadata": {
        "id": "OjayBqpCXBJG"
      },
      "source": [
        "### 5.2 Create and visualize your model"
      ]
    },
    {
      "cell_type": "code",
      "metadata": {
        "id": "MfE6ztl-Vsxr",
        "colab": {
          "base_uri": "https://localhost:8080/"
        },
        "outputId": "cf10c35a-cdd2-4bd1-ea0a-b1320d9b47da"
      },
      "source": [
        "model = YourCNN()\n",
        "\n",
        "summary(model, input_size=(batch_size, 3, 32, 32))"
      ],
      "execution_count": null,
      "outputs": [
        {
          "output_type": "execute_result",
          "data": {
            "text/plain": [
              "==========================================================================================\n",
              "Layer (type:depth-idx)                   Output Shape              Param #\n",
              "==========================================================================================\n",
              "YourCNN                                  --                        --\n",
              "├─Conv2d: 1-1                            [128, 32, 32, 32]         896\n",
              "├─Conv2d: 1-2                            [128, 32, 32, 32]         9,248\n",
              "├─Conv2d: 1-3                            [128, 32, 32, 32]         9,248\n",
              "├─BatchNorm2d: 1-4                       [128, 32, 32, 32]         64\n",
              "├─MaxPool2d: 1-5                         [128, 32, 16, 16]         --\n",
              "├─Conv2d: 1-6                            [128, 64, 16, 16]         18,496\n",
              "├─Conv2d: 1-7                            [128, 64, 16, 16]         36,928\n",
              "├─Conv2d: 1-8                            [128, 64, 16, 16]         36,928\n",
              "├─BatchNorm2d: 1-9                       [128, 64, 16, 16]         128\n",
              "├─MaxPool2d: 1-10                        [128, 64, 8, 8]           --\n",
              "├─Conv2d: 1-11                           [128, 128, 8, 8]          73,856\n",
              "├─Conv2d: 1-12                           [128, 128, 8, 8]          147,584\n",
              "├─Conv2d: 1-13                           [128, 128, 8, 8]          147,584\n",
              "├─BatchNorm2d: 1-14                      [128, 128, 8, 8]          256\n",
              "├─MaxPool2d: 1-15                        [128, 128, 4, 4]          --\n",
              "├─Linear: 1-16                           [128, 128]                262,272\n",
              "├─Linear: 1-17                           [128, 10]                 1,290\n",
              "==========================================================================================\n",
              "Total params: 744,778\n",
              "Trainable params: 744,778\n",
              "Non-trainable params: 0\n",
              "Total mult-adds (G): 8.62\n",
              "==========================================================================================\n",
              "Input size (MB): 1.57\n",
              "Forward/backward pass size (MB): 235.02\n",
              "Params size (MB): 2.98\n",
              "Estimated Total Size (MB): 239.57\n",
              "=========================================================================================="
            ]
          },
          "metadata": {
            "tags": []
          },
          "execution_count": 33
        }
      ]
    },
    {
      "cell_type": "markdown",
      "metadata": {
        "id": "AQw2uB8kXFu-"
      },
      "source": [
        "### 5.3 Train the Model"
      ]
    },
    {
      "cell_type": "code",
      "metadata": {
        "id": "M_fNyLKWV5kg",
        "colab": {
          "base_uri": "https://localhost:8080/"
        },
        "outputId": "965e4133-7bbe-4b5d-83cd-faf2b6520f0f"
      },
      "source": [
        "import torch.optim as optim\n",
        "\n",
        "criterion = nn.CrossEntropyLoss()\n",
        "optimizer = optim.SGD(model.parameters(), lr=0.001, momentum=0.9)\n",
        "\n",
        "model = model.to(device)\n",
        "epochs = 20\n",
        "loss_history = train(model, criterion, optimizer, epochs, trainloader)"
      ],
      "execution_count": null,
      "outputs": [
        {
          "output_type": "stream",
          "text": [
            "Epoch 0 / 20: avg. loss of last 5 iterations 0.005259325262159109\n",
            "Epoch 1 / 20: avg. loss of last 5 iterations 0.003038365603424609\n",
            "Epoch 2 / 20: avg. loss of last 5 iterations 0.002655094489455223\n",
            "Epoch 3 / 20: avg. loss of last 5 iterations 0.0019203252159059048\n",
            "Epoch 4 / 20: avg. loss of last 5 iterations 0.002279576053842902\n",
            "Epoch 5 / 20: avg. loss of last 5 iterations 0.0019747259793803096\n",
            "Epoch 6 / 20: avg. loss of last 5 iterations 0.0014641058631241321\n",
            "Epoch 7 / 20: avg. loss of last 5 iterations 0.001306348037905991\n",
            "Epoch 8 / 20: avg. loss of last 5 iterations 0.0013142011826857924\n",
            "Epoch 9 / 20: avg. loss of last 5 iterations 0.0008864669129252434\n",
            "Epoch 10 / 20: avg. loss of last 5 iterations 0.0010287533630616962\n",
            "Epoch 11 / 20: avg. loss of last 5 iterations 0.0012165225110948087\n",
            "Epoch 12 / 20: avg. loss of last 5 iterations 0.001024362281896174\n",
            "Epoch 13 / 20: avg. loss of last 5 iterations 0.00126067049568519\n",
            "Epoch 14 / 20: avg. loss of last 5 iterations 0.0007704672985710204\n",
            "Epoch 15 / 20: avg. loss of last 5 iterations 0.0009583740145899355\n",
            "Epoch 16 / 20: avg. loss of last 5 iterations 0.0008059749379754066\n",
            "Epoch 17 / 20: avg. loss of last 5 iterations 0.0006990853114984929\n",
            "Epoch 18 / 20: avg. loss of last 5 iterations 0.0006195113412104547\n",
            "Epoch 19 / 20: avg. loss of last 5 iterations 0.0008067302522249519\n"
          ],
          "name": "stdout"
        }
      ]
    },
    {
      "cell_type": "markdown",
      "metadata": {
        "id": "2KD1t5l6WpzE"
      },
      "source": [
        "### 5.4 Loss Curve\n",
        "\n",
        "Let us visualize the loss curve."
      ]
    },
    {
      "cell_type": "code",
      "metadata": {
        "id": "XOALtgdcWsHj",
        "colab": {
          "base_uri": "https://localhost:8080/",
          "height": 279
        },
        "outputId": "f8562931-1f27-4d7d-f22c-e560e064ccfb"
      },
      "source": [
        "plt.plot(loss_history)\n",
        "plt.xlabel('Iteration number')\n",
        "plt.ylabel('Loss value')\n",
        "plt.show()"
      ],
      "execution_count": null,
      "outputs": [
        {
          "output_type": "display_data",
          "data": {
            "image/png": "[encoded data removed]",
            "text/plain": [
              "<Figure size 432x288 with 1 Axes>"
            ]
          },
          "metadata": {
            "tags": [],
            "needs_background": "light"
          }
        }
      ]
    },
    {
      "cell_type": "markdown",
      "metadata": {
        "id": "XRPl6GSAW1mz"
      },
      "source": [
        "### 5.5 Quantitative Analysis\n",
        "\n",
        "Analyze your model quantitatively.\n",
        "\n",
        "*Disclaimer: This code piece is taken from PyTorch examples.*"
      ]
    },
    {
      "cell_type": "code",
      "metadata": {
        "id": "QM1Fin7mW2B0",
        "colab": {
          "base_uri": "https://localhost:8080/"
        },
        "outputId": "d171a029-d1c6-4164-912f-48ef0bd1af9c"
      },
      "source": [
        "correct = 0\n",
        "total = 0\n",
        "model = model.to(\"cpu\")\n",
        "with torch.no_grad():\n",
        "    for data in testloader:\n",
        "        images, labels = data\n",
        "        outputs = model(images)\n",
        "        _, predicted = torch.max(outputs.data, 1)\n",
        "        total += labels.size(0)\n",
        "        correct += (predicted == labels).sum().item()\n",
        "\n",
        "print('Accuracy of the network on the 10000 test images: %d %%' % (100*correct/total))"
      ],
      "execution_count": null,
      "outputs": [
        {
          "output_type": "stream",
          "text": [
            "Accuracy of the network on the 10000 test images: 78 %\n"
          ],
          "name": "stdout"
        }
      ]
    },
    {
      "cell_type": "markdown",
      "metadata": {
        "id": "vedJRpWLVMLU"
      },
      "source": [
        "YourCNN model achives 76% accuracy whereas our SmallCNN achieves only %54. When I increased the epoch to 20 the accuracy was increased to 78%. In order to improve the model, I tried to following methods *(related models and their accuracies can be found in **Section 5.1.1**)*:\n",
        "\n",
        "*   Increased the convolutional layer number\n",
        "*   Different combinations of convolutional layers with max-pooling layers\n",
        "*   Different channel numbers and filter sizes with different stride and padding parameters\n",
        "*   Different activation functions such as *tanh*, *sigmoid* and *softmax*\n",
        "*   Dropout\n",
        "*   **Batch Normalization**\n",
        "\n",
        "I thought that increasing the depth of the model would increase the accuracy. However, it was not the case because the loss would start to decrease after while. 10 epochs were not enough for training that models. Combination of different channel numbers, convolutional and pooling layer numbers with different filter sizes, strides and paddings didn't improve much. Using different functions for output of the model (i.e. output of the last fully connected layer) also did not improve the accuracy. However, using batch normalization layers in deeper networks enabled the models to achieve better results. For example, my *CNN10* model achieved 10% accuracy whereas the same model with batch normalization layers (*CNN10_BN1* or *CNN10_BN2*) achieved 76% accuracy. Batch normalization definitely results in better learning process.\n"
      ]
    }
  ]
}