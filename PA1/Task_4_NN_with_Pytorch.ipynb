{
  "nbformat": 4,
  "nbformat_minor": 0,
  "metadata": {
    "colab": {
      "name": "Task 4 - NN with Pytorch.ipynb",
      "provenance": [],
      "collapsed_sections": [],
      "include_colab_link": true
    },
    "kernelspec": {
      "name": "python3",
      "display_name": "Python 3"
    },
    "language_info": {
      "name": "python"
    },
    "accelerator": "GPU",
    "widgets": {
      "application/vnd.jupyter.widget-state+json": {
        "6631f82a43cb481e97c495fec8e952f2": {
          "model_module": "@jupyter-widgets/controls",
          "model_name": "HBoxModel",
          "state": {
            "_view_name": "HBoxView",
            "_dom_classes": [],
            "_model_name": "HBoxModel",
            "_view_module": "@jupyter-widgets/controls",
            "_model_module_version": "1.5.0",
            "_view_count": null,
            "_view_module_version": "1.5.0",
            "box_style": "",
            "layout": "IPY_MODEL_b4071e0a42064345aa7ac3f1631d8464",
            "_model_module": "@jupyter-widgets/controls",
            "children": [
              "IPY_MODEL_d67b84bb1a924400a7d3896bbec555ce",
              "IPY_MODEL_fa5696f6f0f14e78801ee7c5aced856d"
            ]
          }
        },
        "b4071e0a42064345aa7ac3f1631d8464": {
          "model_module": "@jupyter-widgets/base",
          "model_name": "LayoutModel",
          "state": {
            "_view_name": "LayoutView",
            "grid_template_rows": null,
            "right": null,
            "justify_content": null,
            "_view_module": "@jupyter-widgets/base",
            "overflow": null,
            "_model_module_version": "1.2.0",
            "_view_count": null,
            "flex_flow": null,
            "width": null,
            "min_width": null,
            "border": null,
            "align_items": null,
            "bottom": null,
            "_model_module": "@jupyter-widgets/base",
            "top": null,
            "grid_column": null,
            "overflow_y": null,
            "overflow_x": null,
            "grid_auto_flow": null,
            "grid_area": null,
            "grid_template_columns": null,
            "flex": null,
            "_model_name": "LayoutModel",
            "justify_items": null,
            "grid_row": null,
            "max_height": null,
            "align_content": null,
            "visibility": null,
            "align_self": null,
            "height": null,
            "min_height": null,
            "padding": null,
            "grid_auto_rows": null,
            "grid_gap": null,
            "max_width": null,
            "order": null,
            "_view_module_version": "1.2.0",
            "grid_template_areas": null,
            "object_position": null,
            "object_fit": null,
            "grid_auto_columns": null,
            "margin": null,
            "display": null,
            "left": null
          }
        },
        "d67b84bb1a924400a7d3896bbec555ce": {
          "model_module": "@jupyter-widgets/controls",
          "model_name": "FloatProgressModel",
          "state": {
            "_view_name": "ProgressView",
            "style": "IPY_MODEL_cbb643e1270a43d6ab994e26b815cf0f",
            "_dom_classes": [],
            "description": "",
            "_model_name": "FloatProgressModel",
            "bar_style": "success",
            "max": 170498071,
            "_view_module": "@jupyter-widgets/controls",
            "_model_module_version": "1.5.0",
            "value": 170498071,
            "_view_count": null,
            "_view_module_version": "1.5.0",
            "orientation": "horizontal",
            "min": 0,
            "description_tooltip": null,
            "_model_module": "@jupyter-widgets/controls",
            "layout": "IPY_MODEL_a81bcf2753b744c28833ce690a22f0ce"
          }
        },
        "fa5696f6f0f14e78801ee7c5aced856d": {
          "model_module": "@jupyter-widgets/controls",
          "model_name": "HTMLModel",
          "state": {
            "_view_name": "HTMLView",
            "style": "IPY_MODEL_ccaae91c0f464254813d63ba3c00c683",
            "_dom_classes": [],
            "description": "",
            "_model_name": "HTMLModel",
            "placeholder": "​",
            "_view_module": "@jupyter-widgets/controls",
            "_model_module_version": "1.5.0",
            "value": " 170499072/? [00:05&lt;00:00, 29537226.73it/s]",
            "_view_count": null,
            "_view_module_version": "1.5.0",
            "description_tooltip": null,
            "_model_module": "@jupyter-widgets/controls",
            "layout": "IPY_MODEL_c7a176b113bd4abcaea0ef75dc59f883"
          }
        },
        "cbb643e1270a43d6ab994e26b815cf0f": {
          "model_module": "@jupyter-widgets/controls",
          "model_name": "ProgressStyleModel",
          "state": {
            "_view_name": "StyleView",
            "_model_name": "ProgressStyleModel",
            "description_width": "initial",
            "_view_module": "@jupyter-widgets/base",
            "_model_module_version": "1.5.0",
            "_view_count": null,
            "_view_module_version": "1.2.0",
            "bar_color": null,
            "_model_module": "@jupyter-widgets/controls"
          }
        },
        "a81bcf2753b744c28833ce690a22f0ce": {
          "model_module": "@jupyter-widgets/base",
          "model_name": "LayoutModel",
          "state": {
            "_view_name": "LayoutView",
            "grid_template_rows": null,
            "right": null,
            "justify_content": null,
            "_view_module": "@jupyter-widgets/base",
            "overflow": null,
            "_model_module_version": "1.2.0",
            "_view_count": null,
            "flex_flow": null,
            "width": null,
            "min_width": null,
            "border": null,
            "align_items": null,
            "bottom": null,
            "_model_module": "@jupyter-widgets/base",
            "top": null,
            "grid_column": null,
            "overflow_y": null,
            "overflow_x": null,
            "grid_auto_flow": null,
            "grid_area": null,
            "grid_template_columns": null,
            "flex": null,
            "_model_name": "LayoutModel",
            "justify_items": null,
            "grid_row": null,
            "max_height": null,
            "align_content": null,
            "visibility": null,
            "align_self": null,
            "height": null,
            "min_height": null,
            "padding": null,
            "grid_auto_rows": null,
            "grid_gap": null,
            "max_width": null,
            "order": null,
            "_view_module_version": "1.2.0",
            "grid_template_areas": null,
            "object_position": null,
            "object_fit": null,
            "grid_auto_columns": null,
            "margin": null,
            "display": null,
            "left": null
          }
        },
        "ccaae91c0f464254813d63ba3c00c683": {
          "model_module": "@jupyter-widgets/controls",
          "model_name": "DescriptionStyleModel",
          "state": {
            "_view_name": "StyleView",
            "_model_name": "DescriptionStyleModel",
            "description_width": "",
            "_view_module": "@jupyter-widgets/base",
            "_model_module_version": "1.5.0",
            "_view_count": null,
            "_view_module_version": "1.2.0",
            "_model_module": "@jupyter-widgets/controls"
          }
        },
        "c7a176b113bd4abcaea0ef75dc59f883": {
          "model_module": "@jupyter-widgets/base",
          "model_name": "LayoutModel",
          "state": {
            "_view_name": "LayoutView",
            "grid_template_rows": null,
            "right": null,
            "justify_content": null,
            "_view_module": "@jupyter-widgets/base",
            "overflow": null,
            "_model_module_version": "1.2.0",
            "_view_count": null,
            "flex_flow": null,
            "width": null,
            "min_width": null,
            "border": null,
            "align_items": null,
            "bottom": null,
            "_model_module": "@jupyter-widgets/base",
            "top": null,
            "grid_column": null,
            "overflow_y": null,
            "overflow_x": null,
            "grid_auto_flow": null,
            "grid_area": null,
            "grid_template_columns": null,
            "flex": null,
            "_model_name": "LayoutModel",
            "justify_items": null,
            "grid_row": null,
            "max_height": null,
            "align_content": null,
            "visibility": null,
            "align_self": null,
            "height": null,
            "min_height": null,
            "padding": null,
            "grid_auto_rows": null,
            "grid_gap": null,
            "max_width": null,
            "order": null,
            "_view_module_version": "1.2.0",
            "grid_template_areas": null,
            "object_position": null,
            "object_fit": null,
            "grid_auto_columns": null,
            "margin": null,
            "display": null,
            "left": null
          }
        }
      }
    }
  },
  "cells": [
    {
      "cell_type": "markdown",
      "metadata": {
        "id": "view-in-github",
        "colab_type": "text"
      },
      "source": [
        "<a href=\"https://colab.research.google.com/github/berkeracir/ceng501/blob/main/PA1/Task_4_NN_with_Pytorch.ipynb\" target=\"_parent\"><img src=\"https://colab.research.google.com/assets/colab-badge.svg\" alt=\"Open In Colab\"/></a>"
      ]
    },
    {
      "cell_type": "markdown",
      "metadata": {
        "id": "1X4X2hmaEmip"
      },
      "source": [
        "# **Task 4: NN with PyTorch**\n",
        "# CENG501 - Spring 2021 - PA1 - Berker Acır - 2098697\n",
        "\n",
        "In this task, you will implement a fully-connected neural network (a.k.a. multi-layer perceptron) with PyTorch. In the previous tasks, we implemented everything from scratch (well, almost). Using PyTorch, we will see that loading widely used datasets, defining models and training them are very easy.\n"
      ]
    },
    {
      "cell_type": "markdown",
      "metadata": {
        "id": "oRaKrjO5JSu-"
      },
      "source": [
        "## 1 Import the Modules\n",
        "\n",
        "Let us start with importing some libraries that we will use throughout the task."
      ]
    },
    {
      "cell_type": "code",
      "metadata": {
        "id": "v4L5nogMKyNx"
      },
      "source": [
        "import matplotlib.pyplot as plt # For plotting\n",
        "import numpy as np              # NumPy, for working with arrays/tensors \n",
        "import time                     # For measuring time\n",
        "\n",
        "# PyTorch libraries:\n",
        "import torch\n",
        "import torchvision\n",
        "import torchvision.transforms as transforms\n",
        "\n",
        "%matplotlib inline\n",
        "plt.rcParams['figure.figsize'] = [12, 8]\n",
        "plt.rcParams['figure.dpi'] = 100 # 200 e.g. is really fine, but slower"
      ],
      "execution_count": null,
      "outputs": []
    },
    {
      "cell_type": "markdown",
      "metadata": {
        "id": "4BXVQOGRI4Sc"
      },
      "source": [
        "### 1.1 Enable GPU\n",
        "\n",
        "From \"Edit -> Notebook Settings -> Hardware accelerator\" select GPU. With the following we will specify to PyTorch that we want to use the GPU."
      ]
    },
    {
      "cell_type": "code",
      "metadata": {
        "id": "97DJEyArJLcR",
        "colab": {
          "base_uri": "https://localhost:8080/"
        },
        "outputId": "84d18d24-eaca-43b6-e3b8-cc08d2e09711"
      },
      "source": [
        "if torch.cuda.is_available():\n",
        "  print(\"Cuda (GPU support) is available and enabled!\")\n",
        "  device = torch.device(\"cuda\")\n",
        "else:\n",
        "  print(\"Cuda (GPU support) is not available :(\")\n",
        "  device = torch.device(\"cpu\")"
      ],
      "execution_count": null,
      "outputs": [
        {
          "output_type": "stream",
          "text": [
            "Cuda (GPU support) is available and enabled!\n"
          ],
          "name": "stdout"
        }
      ]
    },
    {
      "cell_type": "markdown",
      "metadata": {
        "id": "UMmi17e-JX7o"
      },
      "source": [
        "## 2 The Dataset\n",
        "\n",
        "We will use torchvision.datasets to download the CIFAR10 dataset. "
      ]
    },
    {
      "cell_type": "code",
      "metadata": {
        "id": "MlXFbhR8Aq0m",
        "colab": {
          "base_uri": "https://localhost:8080/",
          "height": 117,
          "referenced_widgets": [
            "6631f82a43cb481e97c495fec8e952f2",
            "b4071e0a42064345aa7ac3f1631d8464",
            "d67b84bb1a924400a7d3896bbec555ce",
            "fa5696f6f0f14e78801ee7c5aced856d",
            "cbb643e1270a43d6ab994e26b815cf0f",
            "a81bcf2753b744c28833ce690a22f0ce",
            "ccaae91c0f464254813d63ba3c00c683",
            "c7a176b113bd4abcaea0ef75dc59f883"
          ]
        },
        "outputId": "21e48230-023d-4383-a742-c134d001ed51"
      },
      "source": [
        "transform = transforms.Compose(\n",
        "    [transforms.ToTensor(),\n",
        "     transforms.Normalize((0.5, 0.5, 0.5), (0.5, 0.5, 0.5))])\n",
        "\n",
        "batch_size = 200\n",
        "\n",
        "trainset = torchvision.datasets.CIFAR10(root='./data', train=True,\n",
        "                                        download=True, transform=transform)\n",
        "trainloader = torch.utils.data.DataLoader(trainset, batch_size=batch_size,\n",
        "                                          shuffle=True, num_workers=2)\n",
        "\n",
        "testset = torchvision.datasets.CIFAR10(root='./data', train=False,\n",
        "                                       download=True, transform=transform)\n",
        "testloader = torch.utils.data.DataLoader(testset, batch_size=batch_size,\n",
        "                                         shuffle=False, num_workers=2)\n",
        "\n",
        "classes = ('plane', 'car', 'bird', 'cat',\n",
        "           'deer', 'dog', 'frog', 'horse', 'ship', 'truck')"
      ],
      "execution_count": null,
      "outputs": [
        {
          "output_type": "stream",
          "text": [
            "Downloading https://www.cs.toronto.edu/~kriz/cifar-10-python.tar.gz to ./data/cifar-10-python.tar.gz\n"
          ],
          "name": "stdout"
        },
        {
          "output_type": "display_data",
          "data": {
            "application/vnd.jupyter.widget-view+json": {
              "model_id": "6631f82a43cb481e97c495fec8e952f2",
              "version_minor": 0,
              "version_major": 2
            },
            "text/plain": [
              "HBox(children=(FloatProgress(value=0.0, max=170498071.0), HTML(value='')))"
            ]
          },
          "metadata": {
            "tags": []
          }
        },
        {
          "output_type": "stream",
          "text": [
            "\n",
            "Extracting ./data/cifar-10-python.tar.gz to ./data\n",
            "Files already downloaded and verified\n"
          ],
          "name": "stdout"
        }
      ]
    },
    {
      "cell_type": "markdown",
      "metadata": {
        "id": "0i9tug4jGGg4"
      },
      "source": [
        "### 2.1 Visualize Samples"
      ]
    },
    {
      "cell_type": "code",
      "metadata": {
        "id": "aiLTjQoKBIpQ",
        "colab": {
          "base_uri": "https://localhost:8080/",
          "height": 264
        },
        "outputId": "638f96c9-667b-498c-80a5-13f698a6d9b5"
      },
      "source": [
        "dataiter = iter(trainloader)\n",
        "classes = ['plane', 'car', 'bird', 'cat', 'deer', 'dog', 'frog', 'horse', 'ship', 'truck']\n",
        "S = 4\n",
        "\n",
        "for i in range(S):\n",
        "  for j in range(S):\n",
        "    images, labels = dataiter.next()\n",
        "    X = np.transpose(images[0].numpy()/2+0.5, (1, 2, 0))\n",
        "    y = labels[0]\n",
        "\n",
        "    plt.subplot(S, S, i*S+j+1)\n",
        "    plt.imshow(X)\n",
        "    plt.axis('off')\n",
        "    plt.title(classes[y])\n",
        "    plt.subplots_adjust(hspace = 0.5)\n",
        "\n",
        "plt.show()"
      ],
      "execution_count": null,
      "outputs": [
        {
          "output_type": "display_data",
          "data": {
            "image/png": "[encoded data removed]",
            "text/plain": [
              "<Figure size 432x288 with 16 Axes>"
            ]
          },
          "metadata": {
            "tags": [],
            "needs_background": "light"
          }
        }
      ]
    },
    {
      "cell_type": "markdown",
      "metadata": {
        "id": "kUmdAA1QJvRx"
      },
      "source": [
        "## 4 Define and Train a Small Model\n",
        "\n",
        "Now, all the pieces are ready and we can define a model."
      ]
    },
    {
      "cell_type": "markdown",
      "metadata": {
        "id": "fJq7aT_wh9SK"
      },
      "source": [
        "### 4.1 Model Definition\n",
        "\n",
        "Thanks to our modular definition, we can define models in a very simple manner as follows. Note that this is very similar to how you would define a model in PyTorch. For how to create a linear layer and add non-linearity, check out the [Linear](https://pytorch.org/docs/stable/generated/torch.nn.Linear.html) and [ReLU](https://pytorch.org/docs/stable/nn.functional.html?highlight=relu#torch.nn.functional.relu) document pages of PyTorch. The linear layer weights should have bias."
      ]
    },
    {
      "cell_type": "code",
      "metadata": {
        "id": "n13wrSZTiDEp"
      },
      "source": [
        "import torch.nn as nn\n",
        "import torch.nn.functional as F\n",
        "\n",
        "class TwoLayerNet(nn.Module):\n",
        "    def __init__(self, D, H, C):\n",
        "        super(TwoLayerNet, self).__init__()\n",
        "        torch.manual_seed(501)        \n",
        "        self.fc1 = None\n",
        "        self.fc2 = None\n",
        "        ###########################################################\n",
        "        # @TODO: Create two linear layers                         #\n",
        "        #  (1) One with size D x H and store in self.fc1          #\n",
        "        #  (2) Second with size H x C and store in self.fc2       #\n",
        "        ###########################################################\n",
        "        self.fc1 = nn.Linear(D, H) # bias is True by default.\n",
        "        self.fc2 = nn.Linear(H, C) # bias is True by default.\n",
        "        ###########################################################\n",
        "        #                         END OF YOUR CODE                #\n",
        "        ###########################################################\n",
        "\n",
        "    def forward(self, x):\n",
        "      ###########################################################\n",
        "      # @TODO: Feedforward x through the layers. Be careful     #\n",
        "      # about the shape of x. It needs to be reshaped to        #\n",
        "      # (batchsize, 3072) first. Needs to return x. Apply relu  #\n",
        "      # nonlinearity after the first layer.                     #\n",
        "      ###########################################################\n",
        "      x = torch.reshape(x, (x.shape[0], self.fc1.in_features))\n",
        "      x = self.fc1(x)\n",
        "      x = F.relu(x)\n",
        "      x = self.fc2(x)\n",
        "      ###########################################################\n",
        "      #                         END OF YOUR CODE                #\n",
        "      ###########################################################\n",
        "      return x"
      ],
      "execution_count": null,
      "outputs": []
    },
    {
      "cell_type": "markdown",
      "metadata": {
        "id": "0r8pT7Y9FmDH"
      },
      "source": [
        "### 4.2 Define Loss Function and the Optimizer\n",
        "\n",
        "We will create an instance of our model and \"define\" which loss function we want to use. We will also state our choice for the optimizer here.\n",
        "\n",
        "For more information, check the PyTorch docs: [CrossEntropyLoss](https://pytorch.org/docs/stable/generated/torch.nn.CrossEntropyLoss.html) and [SGD](https://pytorch.org/docs/stable/optim.html#torch.optim.SGD)."
      ]
    },
    {
      "cell_type": "code",
      "metadata": {
        "id": "uEn3vti5Fmhp"
      },
      "source": [
        "import torch.optim as optim\n",
        "\n",
        "D = 3072 # dimensionality\n",
        "C = 10 # num of classes\n",
        "H = 200 # number of hidden neurons\n",
        "\n",
        "model = TwoLayerNet(D, H, C)\n",
        "\n",
        "criterion = nn.CrossEntropyLoss()\n",
        "optimizer = optim.SGD(model.parameters(), lr=1e-2, weight_decay=1e-1)"
      ],
      "execution_count": null,
      "outputs": []
    },
    {
      "cell_type": "markdown",
      "metadata": {
        "id": "CvpiVF5uiBE9"
      },
      "source": [
        "### 4.3 Train the Model\n",
        "\n",
        "We will train our the cuda device for training our model. Since our model is too small, we may not see any benefit of the GPU. In fact, the transfer between the CPU and the GPU might exceed the benefit we get from the speedup we obtain from the GPU."
      ]
    },
    {
      "cell_type": "code",
      "metadata": {
        "id": "5Flgr2C6Xb2s"
      },
      "source": [
        "\n",
        "def train(model, criterion, optimizer, epochs, dataloader, verbose=True):\n",
        "  \"\"\"\n",
        "    Define the trainer function. We can use this for training any model.\n",
        "    The parameter names are self-explanatory.\n",
        "\n",
        "    Returns: the loss history.\n",
        "  \"\"\"\n",
        "  loss_history = [] \n",
        "  for epoch in range(epochs):\n",
        "    for i, data in enumerate(dataloader, 0):    \n",
        "      \n",
        "      # Our batch:\n",
        "      inputs, labels = data\n",
        "      inputs = inputs.to(device)\n",
        "      labels = labels.to(device)\n",
        "\n",
        "      # zero the gradients as PyTorch accumulates them\n",
        "      optimizer.zero_grad()\n",
        "\n",
        "      # Obtain the scores\n",
        "      outputs = model(inputs)\n",
        "\n",
        "      # Calculate loss\n",
        "      loss = criterion(outputs.to(device), labels)\n",
        "\n",
        "      # Backpropagate\n",
        "      loss.backward()\n",
        "\n",
        "      # Update the weights\n",
        "      optimizer.step()\n",
        "\n",
        "      loss_history.append(loss.item())\n",
        "    \n",
        "    if verbose: print(f'Epoch {epoch} / {epochs}: avg. loss of last 5 iterations {np.sum(loss_history[:-6:-1])/5}')\n",
        "\n",
        "  return loss_history"
      ],
      "execution_count": null,
      "outputs": []
    },
    {
      "cell_type": "code",
      "metadata": {
        "id": "8Gg_Xp3vrg42",
        "colab": {
          "base_uri": "https://localhost:8080/"
        },
        "outputId": "9766805c-f78f-4b3c-f8dc-b8c7ddcdf0cc"
      },
      "source": [
        "model = model.to(device)\n",
        "epochs = 10\n",
        "loss_history = train(model, criterion, optimizer, epochs, trainloader)"
      ],
      "execution_count": null,
      "outputs": [
        {
          "output_type": "stream",
          "text": [
            "Epoch 0 / 10: avg. loss of last 5 iterations 1.968306040763855\n",
            "Epoch 1 / 10: avg. loss of last 5 iterations 1.8807583332061768\n",
            "Epoch 2 / 10: avg. loss of last 5 iterations 1.8336632251739502\n",
            "Epoch 3 / 10: avg. loss of last 5 iterations 1.838196325302124\n",
            "Epoch 4 / 10: avg. loss of last 5 iterations 1.799924635887146\n",
            "Epoch 5 / 10: avg. loss of last 5 iterations 1.8022034168243408\n",
            "Epoch 6 / 10: avg. loss of last 5 iterations 1.8163482666015625\n",
            "Epoch 7 / 10: avg. loss of last 5 iterations 1.7929362297058105\n",
            "Epoch 8 / 10: avg. loss of last 5 iterations 1.8225033283233643\n",
            "Epoch 9 / 10: avg. loss of last 5 iterations 1.8248020172119142\n"
          ],
          "name": "stdout"
        }
      ]
    },
    {
      "cell_type": "markdown",
      "metadata": {
        "id": "DILBn6y92Ceg"
      },
      "source": [
        "### 4.4 The Loss Curve\n",
        "\n",
        "Let us visualize the loss curve."
      ]
    },
    {
      "cell_type": "code",
      "metadata": {
        "id": "bNZBSrzXiVVe",
        "colab": {
          "base_uri": "https://localhost:8080/"
        },
        "outputId": "41585b99-bafe-4a3b-a922-c08f956760de"
      },
      "source": [
        "plt.plot(loss_history)\n",
        "plt.xlabel('Iteration number')\n",
        "plt.ylabel('Loss value')\n",
        "plt.show()"
      ],
      "execution_count": null,
      "outputs": [
        {
          "output_type": "display_data",
          "data": {
            "image/png": "[encoded data removed]",
            "text/plain": [
              "<Figure size 432x288 with 1 Axes>"
            ]
          },
          "metadata": {
            "tags": [],
            "needs_background": "light"
          }
        }
      ]
    },
    {
      "cell_type": "markdown",
      "metadata": {
        "id": "KPMf0jfF2zo6"
      },
      "source": [
        "### 4.5 Quantitative Analysis\n",
        "\n",
        "We can analyze the accuracy of the predictions as follows. You should see around 38\\% accuracies. We can finetune the hyperparameters to obtain better results. But we will skip that and go for a bigger model.\n",
        "\n",
        "*Disclaimer: This code piece is taken from PyTorch examples.*"
      ]
    },
    {
      "cell_type": "code",
      "metadata": {
        "id": "5PAV1QQw218J",
        "colab": {
          "base_uri": "https://localhost:8080/"
        },
        "outputId": "3eef3585-c35a-4bf7-ca4d-6a8687cd0acd"
      },
      "source": [
        "correct = 0\n",
        "total = 0\n",
        "model = model.to(\"cpu\")\n",
        "with torch.no_grad():\n",
        "    for data in testloader:\n",
        "        images, labels = data\n",
        "        outputs = model(images)\n",
        "        _, predicted = torch.max(outputs.data, 1)\n",
        "        total += labels.size(0)\n",
        "        correct += (predicted == labels).sum().item()\n",
        "\n",
        "print('Accuracy of the network on the 10000 test images: %d %%' % (\n",
        "    100 * correct / total))"
      ],
      "execution_count": null,
      "outputs": [
        {
          "output_type": "stream",
          "text": [
            "Accuracy of the network on the 10000 test images: 38 %\n"
          ],
          "name": "stdout"
        }
      ]
    },
    {
      "cell_type": "markdown",
      "metadata": {
        "id": "M4AJXtea2427"
      },
      "source": [
        "## 6 Try a Larger Model\n",
        "\n"
      ]
    },
    {
      "cell_type": "markdown",
      "metadata": {
        "id": "Dr7NvUrWW9ax"
      },
      "source": [
        "### 6.1 Model Definition"
      ]
    },
    {
      "cell_type": "code",
      "metadata": {
        "id": "qmBmxHGoVE_F"
      },
      "source": [
        "import torch.nn as nn\n",
        "import torch.nn.functional as F\n",
        "\n",
        "class ThreeLayerNet(nn.Module):\n",
        "    def __init__(self, D, H1, H2, C):\n",
        "        super(ThreeLayerNet, self).__init__()\n",
        "        torch.manual_seed(501)\n",
        "        self.fc1 = None\n",
        "        self.fc2 = None\n",
        "        self.fc3 = None\n",
        "        ###########################################################\n",
        "        # @TODO: Create three linear layers                       #\n",
        "        #  (1) One with size D x H1 and store in self.fc1         #\n",
        "        #  (2) Second with size H1 x H2 and store in self.fc2     #\n",
        "        #  (3) Third with size H2 x HC and store in self.fc3      #\n",
        "        ###########################################################\n",
        "        self.fc1 = nn.Linear(D, H1)\n",
        "        self.fc2 = nn.Linear(H1, H2)\n",
        "        self.fc3 = nn.Linear(H2, C)\n",
        "        ###########################################################\n",
        "        #                         END OF YOUR CODE                #\n",
        "        ###########################################################\n",
        "\n",
        "    def forward(self, x):\n",
        "      ###########################################################\n",
        "      # @TODO: Feedforward x through the layers. Be careful     #\n",
        "      # about the shape of x. It needs to be reshaped to        #\n",
        "      # (batchsize, 3072) first. Needs to return x. Apply relu  #\n",
        "      # nonlinearity after the first and second layers.         #\n",
        "      ###########################################################\n",
        "      x = torch.reshape(x, (x.shape[0], self.fc1.in_features))\n",
        "      x = self.fc1(x)\n",
        "      x = F.relu(x)\n",
        "      x = self.fc2(x)\n",
        "      x = F.relu(x)\n",
        "      x = self.fc3(x)\n",
        "      ###########################################################\n",
        "      #                         END OF YOUR CODE                #\n",
        "      ###########################################################\n",
        "      return x"
      ],
      "execution_count": null,
      "outputs": []
    },
    {
      "cell_type": "markdown",
      "metadata": {
        "id": "OjayBqpCXBJG"
      },
      "source": [
        "### 6.2 Define the Loss Function and the Optimizer"
      ]
    },
    {
      "cell_type": "code",
      "metadata": {
        "id": "MfE6ztl-Vsxr"
      },
      "source": [
        "import torch.optim as optim\n",
        "\n",
        "D = 3072 # dimensionality\n",
        "C = 10 # num of classes\n",
        "H1 = 1000 # number of hidden neurons\n",
        "H2 = 100 # number of hidden neurons\n",
        "\n",
        "model = ThreeLayerNet(D, H1, H2, C)\n",
        "\n",
        "criterion = nn.CrossEntropyLoss()\n",
        "optimizer = optim.SGD(model.parameters(), lr=5e-2, weight_decay=1e-2)"
      ],
      "execution_count": null,
      "outputs": []
    },
    {
      "cell_type": "markdown",
      "metadata": {
        "id": "AQw2uB8kXFu-"
      },
      "source": [
        "### 6.3 Train the Model"
      ]
    },
    {
      "cell_type": "code",
      "metadata": {
        "id": "M_fNyLKWV5kg",
        "colab": {
          "base_uri": "https://localhost:8080/"
        },
        "outputId": "882bce3f-5f4a-45cc-ceab-47d46bb6e48a"
      },
      "source": [
        "model = model.to(device)\n",
        "epochs = 10\n",
        "\n",
        "loss_history = train(model, criterion, optimizer, epochs, trainloader)"
      ],
      "execution_count": null,
      "outputs": [
        {
          "output_type": "stream",
          "text": [
            "Epoch 0 / 10: avg. loss of last 5 iterations 1.7509853839874268\n",
            "Epoch 1 / 10: avg. loss of last 5 iterations 1.6362876653671266\n",
            "Epoch 2 / 10: avg. loss of last 5 iterations 1.5812842130661011\n",
            "Epoch 3 / 10: avg. loss of last 5 iterations 1.5220166444778442\n",
            "Epoch 4 / 10: avg. loss of last 5 iterations 1.4547698974609375\n",
            "Epoch 5 / 10: avg. loss of last 5 iterations 1.4155205488204956\n",
            "Epoch 6 / 10: avg. loss of last 5 iterations 1.3821622848510742\n",
            "Epoch 7 / 10: avg. loss of last 5 iterations 1.3826517581939697\n",
            "Epoch 8 / 10: avg. loss of last 5 iterations 1.4921271800994873\n",
            "Epoch 9 / 10: avg. loss of last 5 iterations 1.2442209005355835\n"
          ],
          "name": "stdout"
        }
      ]
    },
    {
      "cell_type": "markdown",
      "metadata": {
        "id": "2KD1t5l6WpzE"
      },
      "source": [
        "### 6.4 Loss Curve\n",
        "\n",
        "Let us visualize the loss curve."
      ]
    },
    {
      "cell_type": "code",
      "metadata": {
        "id": "XOALtgdcWsHj",
        "colab": {
          "base_uri": "https://localhost:8080/"
        },
        "outputId": "10b8ce00-0883-46ed-9da1-628f849650e2"
      },
      "source": [
        "plt.plot(loss_history)\n",
        "plt.xlabel('Iteration number')\n",
        "plt.ylabel('Loss value')\n",
        "plt.show()"
      ],
      "execution_count": null,
      "outputs": [
        {
          "output_type": "display_data",
          "data": {
            "image/png": "[encoded data removed]",
            "text/plain": [
              "<Figure size 432x288 with 1 Axes>"
            ]
          },
          "metadata": {
            "tags": [],
            "needs_background": "light"
          }
        }
      ]
    },
    {
      "cell_type": "markdown",
      "metadata": {
        "id": "XRPl6GSAW1mz"
      },
      "source": [
        "### 6.5 Quantitative Analysis\n",
        "\n",
        "You should see around 52\\% accuracy here. By finetuning the model, you should be able to obtain better results.\n",
        "\n",
        "*Disclaimer: This code piece is taken from PyTorch examples.*"
      ]
    },
    {
      "cell_type": "code",
      "metadata": {
        "id": "QM1Fin7mW2B0",
        "colab": {
          "base_uri": "https://localhost:8080/"
        },
        "outputId": "f868b770-850a-4d0a-d866-c3209040222b"
      },
      "source": [
        "correct = 0\n",
        "total = 0\n",
        "model = model.to(\"cpu\")\n",
        "with torch.no_grad():\n",
        "    for data in testloader:\n",
        "        images, labels = data\n",
        "        outputs = model(images)\n",
        "        _, predicted = torch.max(outputs.data, 1)\n",
        "        total += labels.size(0)\n",
        "        correct += (predicted == labels).sum().item()\n",
        "\n",
        "print('Accuracy of the network on the 10000 test images: %d %%' % (\n",
        "    100 * correct / total))"
      ],
      "execution_count": null,
      "outputs": [
        {
          "output_type": "stream",
          "text": [
            "Accuracy of the network on the 10000 test images: 51 %\n"
          ],
          "name": "stdout"
        }
      ]
    }
  ]
}